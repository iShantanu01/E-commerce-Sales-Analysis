{
 "cells": [
  {
   "cell_type": "code",
   "execution_count": 1,
   "id": "4fe8b7af-e521-4c2c-a5fa-855c818e200f",
   "metadata": {},
   "outputs": [],
   "source": [
    "import pandas as pd\n",
    "import numpy as np\n",
    "import matplotlib.pyplot as plt\n",
    "import seaborn as sns\n",
    "import warnings\n",
    "\n",
    "warnings.filterwarnings('ignore')"
   ]
  },
  {
   "cell_type": "markdown",
   "id": "3940a681-7f19-4b76-95dd-aa0adcf553dd",
   "metadata": {},
   "source": [
    "# 1. Load Dataset [ A monthly Data of One Year]"
   ]
  },
  {
   "cell_type": "code",
   "execution_count": 2,
   "id": "ce19059e-adf8-4a32-b981-7657b14f46eb",
   "metadata": {},
   "outputs": [],
   "source": [
    "January = pd.read_csv(\"Sales_January_2019.csv\")\n",
    "February = pd.read_csv(\"Sales_February_2019.csv\")\n",
    "March = pd.read_csv(\"Sales_March_2019.csv\")\n",
    "April = pd.read_csv(\"Sales_April_2019.csv\")\n",
    "May = pd.read_csv(\"Sales_May_2019.csv\")\n",
    "June = pd.read_csv(\"Sales_June_2019.csv\")\n",
    "July = pd.read_csv(\"Sales_July_2019.csv\")\n",
    "August = pd.read_csv(\"Sales_August_2019.csv\")\n",
    "September = pd.read_csv(\"Sales_September_2019.csv\")\n",
    "October = pd.read_csv(\"Sales_October_2019.csv\")\n",
    "November = pd.read_csv(\"Sales_November_2019.csv\")\n",
    "December = pd.read_csv(\"Sales_December_2019.csv\")"
   ]
  },
  {
   "cell_type": "markdown",
   "id": "424b8e1d-dfa3-41f5-aa51-c78822b83ee9",
   "metadata": {},
   "source": [
    "# 2. Append the Data"
   ]
  },
  {
   "cell_type": "code",
   "execution_count": 7,
   "id": "60194012-1bc0-461d-89dd-e599b7fb0c33",
   "metadata": {},
   "outputs": [],
   "source": [
    "e_com = pd.concat([January , February , March , April , May , June , \n",
    "                 July , August , September , October , November , December] , axis = 0 )"
   ]
  },
  {
   "cell_type": "markdown",
   "id": "6c173463-c8f2-4dfa-be90-64a11050f35d",
   "metadata": {},
   "source": [
    "# 3. A Glance Of The Dataset"
   ]
  },
  {
   "cell_type": "code",
   "execution_count": 11,
   "id": "885105fb-00db-410e-b8ce-cd36b23fffc2",
   "metadata": {},
   "outputs": [
    {
     "data": {
      "text/html": [
       "<div>\n",
       "<style scoped>\n",
       "    .dataframe tbody tr th:only-of-type {\n",
       "        vertical-align: middle;\n",
       "    }\n",
       "\n",
       "    .dataframe tbody tr th {\n",
       "        vertical-align: top;\n",
       "    }\n",
       "\n",
       "    .dataframe thead th {\n",
       "        text-align: right;\n",
       "    }\n",
       "</style>\n",
       "<table border=\"1\" class=\"dataframe\">\n",
       "  <thead>\n",
       "    <tr style=\"text-align: right;\">\n",
       "      <th></th>\n",
       "      <th>Order ID</th>\n",
       "      <th>Product</th>\n",
       "      <th>Quantity Ordered</th>\n",
       "      <th>Price Each</th>\n",
       "      <th>Order Date</th>\n",
       "      <th>Purchase Address</th>\n",
       "    </tr>\n",
       "  </thead>\n",
       "  <tbody>\n",
       "    <tr>\n",
       "      <th>0</th>\n",
       "      <td>141234</td>\n",
       "      <td>iPhone</td>\n",
       "      <td>1</td>\n",
       "      <td>700</td>\n",
       "      <td>01/22/19 21:25</td>\n",
       "      <td>944 Walnut St, Boston, MA 02215</td>\n",
       "    </tr>\n",
       "    <tr>\n",
       "      <th>1</th>\n",
       "      <td>141235</td>\n",
       "      <td>Lightning Charging Cable</td>\n",
       "      <td>1</td>\n",
       "      <td>14.95</td>\n",
       "      <td>01/28/19 14:15</td>\n",
       "      <td>185 Maple St, Portland, OR 97035</td>\n",
       "    </tr>\n",
       "    <tr>\n",
       "      <th>2</th>\n",
       "      <td>141236</td>\n",
       "      <td>Wired Headphones</td>\n",
       "      <td>2</td>\n",
       "      <td>11.99</td>\n",
       "      <td>01/17/19 13:33</td>\n",
       "      <td>538 Adams St, San Francisco, CA 94016</td>\n",
       "    </tr>\n",
       "    <tr>\n",
       "      <th>3</th>\n",
       "      <td>141237</td>\n",
       "      <td>27in FHD Monitor</td>\n",
       "      <td>1</td>\n",
       "      <td>149.99</td>\n",
       "      <td>01/05/19 20:33</td>\n",
       "      <td>738 10th St, Los Angeles, CA 90001</td>\n",
       "    </tr>\n",
       "    <tr>\n",
       "      <th>4</th>\n",
       "      <td>141238</td>\n",
       "      <td>Wired Headphones</td>\n",
       "      <td>1</td>\n",
       "      <td>11.99</td>\n",
       "      <td>01/25/19 11:59</td>\n",
       "      <td>387 10th St, Austin, TX 73301</td>\n",
       "    </tr>\n",
       "  </tbody>\n",
       "</table>\n",
       "</div>"
      ],
      "text/plain": [
       "  Order ID                   Product Quantity Ordered Price Each  \\\n",
       "0   141234                    iPhone                1        700   \n",
       "1   141235  Lightning Charging Cable                1      14.95   \n",
       "2   141236          Wired Headphones                2      11.99   \n",
       "3   141237          27in FHD Monitor                1     149.99   \n",
       "4   141238          Wired Headphones                1      11.99   \n",
       "\n",
       "       Order Date                       Purchase Address  \n",
       "0  01/22/19 21:25        944 Walnut St, Boston, MA 02215  \n",
       "1  01/28/19 14:15       185 Maple St, Portland, OR 97035  \n",
       "2  01/17/19 13:33  538 Adams St, San Francisco, CA 94016  \n",
       "3  01/05/19 20:33     738 10th St, Los Angeles, CA 90001  \n",
       "4  01/25/19 11:59          387 10th St, Austin, TX 73301  "
      ]
     },
     "execution_count": 11,
     "metadata": {},
     "output_type": "execute_result"
    }
   ],
   "source": [
    "e_com.head()"
   ]
  },
  {
   "cell_type": "markdown",
   "id": "ee3f94d1-5702-4493-97ff-c9ae26935cf3",
   "metadata": {},
   "source": [
    "# 4. Data Preparation [cleaning and standardizarion]"
   ]
  },
  {
   "cell_type": "markdown",
   "id": "65d21dc7-4db5-4129-a22b-562ea98410a0",
   "metadata": {},
   "source": [
    "### 4.1 NULL VALUE TREATMENT"
   ]
  },
  {
   "cell_type": "code",
   "execution_count": 15,
   "id": "4bc858c6-63e1-492b-aba0-0a988f6536ac",
   "metadata": {},
   "outputs": [
    {
     "data": {
      "text/plain": [
       "Order ID            545\n",
       "Product             545\n",
       "Quantity Ordered    545\n",
       "Price Each          545\n",
       "Order Date          545\n",
       "Purchase Address    545\n",
       "dtype: int64"
      ]
     },
     "execution_count": 15,
     "metadata": {},
     "output_type": "execute_result"
    }
   ],
   "source": [
    "# 1.1. Count of nulls:                                        \n",
    "e_com.isna().sum()"
   ]
  },
  {
   "cell_type": "code",
   "execution_count": 17,
   "id": "0585b85b-969e-4894-8b14-90c761eb2de3",
   "metadata": {},
   "outputs": [
    {
     "data": {
      "text/html": [
       "<div>\n",
       "<style scoped>\n",
       "    .dataframe tbody tr th:only-of-type {\n",
       "        vertical-align: middle;\n",
       "    }\n",
       "\n",
       "    .dataframe tbody tr th {\n",
       "        vertical-align: top;\n",
       "    }\n",
       "\n",
       "    .dataframe thead th {\n",
       "        text-align: right;\n",
       "    }\n",
       "</style>\n",
       "<table border=\"1\" class=\"dataframe\">\n",
       "  <thead>\n",
       "    <tr style=\"text-align: right;\">\n",
       "      <th></th>\n",
       "      <th>Order ID</th>\n",
       "      <th>Product</th>\n",
       "      <th>Quantity Ordered</th>\n",
       "      <th>Price Each</th>\n",
       "      <th>Order Date</th>\n",
       "      <th>Purchase Address</th>\n",
       "    </tr>\n",
       "  </thead>\n",
       "  <tbody>\n",
       "    <tr>\n",
       "      <th>664</th>\n",
       "      <td>NaN</td>\n",
       "      <td>NaN</td>\n",
       "      <td>NaN</td>\n",
       "      <td>NaN</td>\n",
       "      <td>NaN</td>\n",
       "      <td>NaN</td>\n",
       "    </tr>\n",
       "    <tr>\n",
       "      <th>678</th>\n",
       "      <td>NaN</td>\n",
       "      <td>NaN</td>\n",
       "      <td>NaN</td>\n",
       "      <td>NaN</td>\n",
       "      <td>NaN</td>\n",
       "      <td>NaN</td>\n",
       "    </tr>\n",
       "    <tr>\n",
       "      <th>797</th>\n",
       "      <td>NaN</td>\n",
       "      <td>NaN</td>\n",
       "      <td>NaN</td>\n",
       "      <td>NaN</td>\n",
       "      <td>NaN</td>\n",
       "      <td>NaN</td>\n",
       "    </tr>\n",
       "    <tr>\n",
       "      <th>876</th>\n",
       "      <td>NaN</td>\n",
       "      <td>NaN</td>\n",
       "      <td>NaN</td>\n",
       "      <td>NaN</td>\n",
       "      <td>NaN</td>\n",
       "      <td>NaN</td>\n",
       "    </tr>\n",
       "    <tr>\n",
       "      <th>1299</th>\n",
       "      <td>NaN</td>\n",
       "      <td>NaN</td>\n",
       "      <td>NaN</td>\n",
       "      <td>NaN</td>\n",
       "      <td>NaN</td>\n",
       "      <td>NaN</td>\n",
       "    </tr>\n",
       "    <tr>\n",
       "      <th>...</th>\n",
       "      <td>...</td>\n",
       "      <td>...</td>\n",
       "      <td>...</td>\n",
       "      <td>...</td>\n",
       "      <td>...</td>\n",
       "      <td>...</td>\n",
       "    </tr>\n",
       "    <tr>\n",
       "      <th>22945</th>\n",
       "      <td>NaN</td>\n",
       "      <td>NaN</td>\n",
       "      <td>NaN</td>\n",
       "      <td>NaN</td>\n",
       "      <td>NaN</td>\n",
       "      <td>NaN</td>\n",
       "    </tr>\n",
       "    <tr>\n",
       "      <th>22962</th>\n",
       "      <td>NaN</td>\n",
       "      <td>NaN</td>\n",
       "      <td>NaN</td>\n",
       "      <td>NaN</td>\n",
       "      <td>NaN</td>\n",
       "      <td>NaN</td>\n",
       "    </tr>\n",
       "    <tr>\n",
       "      <th>23309</th>\n",
       "      <td>NaN</td>\n",
       "      <td>NaN</td>\n",
       "      <td>NaN</td>\n",
       "      <td>NaN</td>\n",
       "      <td>NaN</td>\n",
       "      <td>NaN</td>\n",
       "    </tr>\n",
       "    <tr>\n",
       "      <th>23996</th>\n",
       "      <td>NaN</td>\n",
       "      <td>NaN</td>\n",
       "      <td>NaN</td>\n",
       "      <td>NaN</td>\n",
       "      <td>NaN</td>\n",
       "      <td>NaN</td>\n",
       "    </tr>\n",
       "    <tr>\n",
       "      <th>24730</th>\n",
       "      <td>NaN</td>\n",
       "      <td>NaN</td>\n",
       "      <td>NaN</td>\n",
       "      <td>NaN</td>\n",
       "      <td>NaN</td>\n",
       "      <td>NaN</td>\n",
       "    </tr>\n",
       "  </tbody>\n",
       "</table>\n",
       "<p>545 rows × 6 columns</p>\n",
       "</div>"
      ],
      "text/plain": [
       "      Order ID Product Quantity Ordered Price Each Order Date Purchase Address\n",
       "664        NaN     NaN              NaN        NaN        NaN              NaN\n",
       "678        NaN     NaN              NaN        NaN        NaN              NaN\n",
       "797        NaN     NaN              NaN        NaN        NaN              NaN\n",
       "876        NaN     NaN              NaN        NaN        NaN              NaN\n",
       "1299       NaN     NaN              NaN        NaN        NaN              NaN\n",
       "...        ...     ...              ...        ...        ...              ...\n",
       "22945      NaN     NaN              NaN        NaN        NaN              NaN\n",
       "22962      NaN     NaN              NaN        NaN        NaN              NaN\n",
       "23309      NaN     NaN              NaN        NaN        NaN              NaN\n",
       "23996      NaN     NaN              NaN        NaN        NaN              NaN\n",
       "24730      NaN     NaN              NaN        NaN        NaN              NaN\n",
       "\n",
       "[545 rows x 6 columns]"
      ]
     },
     "execution_count": 17,
     "metadata": {},
     "output_type": "execute_result"
    }
   ],
   "source": [
    "# 1.2. Find the nulls\n",
    "e_com[e_com.isna().all(axis = 1)]"
   ]
  },
  {
   "cell_type": "code",
   "execution_count": 19,
   "id": "efc89360-312b-4090-b3ad-58a91617b8ec",
   "metadata": {},
   "outputs": [],
   "source": [
    "# 2. Remove the null values(Rows):                                                \n",
    "ecom1 = e_com.dropna(how = 'all' , inplace = False)"
   ]
  },
  {
   "cell_type": "code",
   "execution_count": 21,
   "id": "3e5f1706-ffda-480f-b0ea-b19856f722a3",
   "metadata": {},
   "outputs": [
    {
     "data": {
      "text/plain": [
       "Order ID            0\n",
       "Product             0\n",
       "Quantity Ordered    0\n",
       "Price Each          0\n",
       "Order Date          0\n",
       "Purchase Address    0\n",
       "dtype: int64"
      ]
     },
     "execution_count": 21,
     "metadata": {},
     "output_type": "execute_result"
    }
   ],
   "source": [
    "# 3. After removing nulls:                           \n",
    "ecom1.isnull().sum()"
   ]
  },
  {
   "cell_type": "markdown",
   "id": "3ac73d07-d4c3-4dd7-8947-ef6841c11f03",
   "metadata": {},
   "source": [
    "### 4.2 DUPLICATES"
   ]
  },
  {
   "cell_type": "code",
   "execution_count": 28,
   "id": "69bb6eb6-6bc8-481f-8258-5da5fdc7303a",
   "metadata": {},
   "outputs": [
    {
     "data": {
      "text/plain": [
       "618"
      ]
     },
     "execution_count": 28,
     "metadata": {},
     "output_type": "execute_result"
    }
   ],
   "source": [
    "# 1.1. Count of Duplicate(Row):                   \n",
    "ecom1.duplicated().sum()"
   ]
  },
  {
   "cell_type": "code",
   "execution_count": 26,
   "id": "8feb640c-f2f6-4173-9a02-412727320742",
   "metadata": {},
   "outputs": [
    {
     "data": {
      "text/html": [
       "<div>\n",
       "<style scoped>\n",
       "    .dataframe tbody tr th:only-of-type {\n",
       "        vertical-align: middle;\n",
       "    }\n",
       "\n",
       "    .dataframe tbody tr th {\n",
       "        vertical-align: top;\n",
       "    }\n",
       "\n",
       "    .dataframe thead th {\n",
       "        text-align: right;\n",
       "    }\n",
       "</style>\n",
       "<table border=\"1\" class=\"dataframe\">\n",
       "  <thead>\n",
       "    <tr style=\"text-align: right;\">\n",
       "      <th></th>\n",
       "      <th>Order ID</th>\n",
       "      <th>Product</th>\n",
       "      <th>Quantity Ordered</th>\n",
       "      <th>Price Each</th>\n",
       "      <th>Order Date</th>\n",
       "      <th>Purchase Address</th>\n",
       "    </tr>\n",
       "  </thead>\n",
       "  <tbody>\n",
       "    <tr>\n",
       "      <th>875</th>\n",
       "      <td>142071</td>\n",
       "      <td>AA Batteries (4-pack)</td>\n",
       "      <td>1</td>\n",
       "      <td>3.84</td>\n",
       "      <td>01/17/19 23:02</td>\n",
       "      <td>131 2nd St, Boston, MA 02215</td>\n",
       "    </tr>\n",
       "    <tr>\n",
       "      <th>1102</th>\n",
       "      <td>Order ID</td>\n",
       "      <td>Product</td>\n",
       "      <td>Quantity Ordered</td>\n",
       "      <td>Price Each</td>\n",
       "      <td>Order Date</td>\n",
       "      <td>Purchase Address</td>\n",
       "    </tr>\n",
       "    <tr>\n",
       "      <th>1194</th>\n",
       "      <td>Order ID</td>\n",
       "      <td>Product</td>\n",
       "      <td>Quantity Ordered</td>\n",
       "      <td>Price Each</td>\n",
       "      <td>Order Date</td>\n",
       "      <td>Purchase Address</td>\n",
       "    </tr>\n",
       "    <tr>\n",
       "      <th>1897</th>\n",
       "      <td>Order ID</td>\n",
       "      <td>Product</td>\n",
       "      <td>Quantity Ordered</td>\n",
       "      <td>Price Each</td>\n",
       "      <td>Order Date</td>\n",
       "      <td>Purchase Address</td>\n",
       "    </tr>\n",
       "    <tr>\n",
       "      <th>2463</th>\n",
       "      <td>Order ID</td>\n",
       "      <td>Product</td>\n",
       "      <td>Quantity Ordered</td>\n",
       "      <td>Price Each</td>\n",
       "      <td>Order Date</td>\n",
       "      <td>Purchase Address</td>\n",
       "    </tr>\n",
       "    <tr>\n",
       "      <th>...</th>\n",
       "      <td>...</td>\n",
       "      <td>...</td>\n",
       "      <td>...</td>\n",
       "      <td>...</td>\n",
       "      <td>...</td>\n",
       "      <td>...</td>\n",
       "    </tr>\n",
       "    <tr>\n",
       "      <th>23337</th>\n",
       "      <td>Order ID</td>\n",
       "      <td>Product</td>\n",
       "      <td>Quantity Ordered</td>\n",
       "      <td>Price Each</td>\n",
       "      <td>Order Date</td>\n",
       "      <td>Purchase Address</td>\n",
       "    </tr>\n",
       "    <tr>\n",
       "      <th>23352</th>\n",
       "      <td>317971</td>\n",
       "      <td>AA Batteries (4-pack)</td>\n",
       "      <td>1</td>\n",
       "      <td>3.84</td>\n",
       "      <td>12/17/19 18:39</td>\n",
       "      <td>250 Chestnut St, San Francisco, CA 94016</td>\n",
       "    </tr>\n",
       "    <tr>\n",
       "      <th>23748</th>\n",
       "      <td>Order ID</td>\n",
       "      <td>Product</td>\n",
       "      <td>Quantity Ordered</td>\n",
       "      <td>Price Each</td>\n",
       "      <td>Order Date</td>\n",
       "      <td>Purchase Address</td>\n",
       "    </tr>\n",
       "    <tr>\n",
       "      <th>24192</th>\n",
       "      <td>Order ID</td>\n",
       "      <td>Product</td>\n",
       "      <td>Quantity Ordered</td>\n",
       "      <td>Price Each</td>\n",
       "      <td>Order Date</td>\n",
       "      <td>Purchase Address</td>\n",
       "    </tr>\n",
       "    <tr>\n",
       "      <th>24222</th>\n",
       "      <td>Order ID</td>\n",
       "      <td>Product</td>\n",
       "      <td>Quantity Ordered</td>\n",
       "      <td>Price Each</td>\n",
       "      <td>Order Date</td>\n",
       "      <td>Purchase Address</td>\n",
       "    </tr>\n",
       "  </tbody>\n",
       "</table>\n",
       "<p>618 rows × 6 columns</p>\n",
       "</div>"
      ],
      "text/plain": [
       "       Order ID                Product  Quantity Ordered  Price Each  \\\n",
       "875      142071  AA Batteries (4-pack)                 1        3.84   \n",
       "1102   Order ID                Product  Quantity Ordered  Price Each   \n",
       "1194   Order ID                Product  Quantity Ordered  Price Each   \n",
       "1897   Order ID                Product  Quantity Ordered  Price Each   \n",
       "2463   Order ID                Product  Quantity Ordered  Price Each   \n",
       "...         ...                    ...               ...         ...   \n",
       "23337  Order ID                Product  Quantity Ordered  Price Each   \n",
       "23352    317971  AA Batteries (4-pack)                 1        3.84   \n",
       "23748  Order ID                Product  Quantity Ordered  Price Each   \n",
       "24192  Order ID                Product  Quantity Ordered  Price Each   \n",
       "24222  Order ID                Product  Quantity Ordered  Price Each   \n",
       "\n",
       "           Order Date                          Purchase Address  \n",
       "875    01/17/19 23:02              131 2nd St, Boston, MA 02215  \n",
       "1102       Order Date                          Purchase Address  \n",
       "1194       Order Date                          Purchase Address  \n",
       "1897       Order Date                          Purchase Address  \n",
       "2463       Order Date                          Purchase Address  \n",
       "...               ...                                       ...  \n",
       "23337      Order Date                          Purchase Address  \n",
       "23352  12/17/19 18:39  250 Chestnut St, San Francisco, CA 94016  \n",
       "23748      Order Date                          Purchase Address  \n",
       "24192      Order Date                          Purchase Address  \n",
       "24222      Order Date                          Purchase Address  \n",
       "\n",
       "[618 rows x 6 columns]"
      ]
     },
     "execution_count": 26,
     "metadata": {},
     "output_type": "execute_result"
    }
   ],
   "source": [
    "# 1.2. Find the duplicate rows\n",
    "ecom1[ecom1.duplicated()]"
   ]
  },
  {
   "cell_type": "code",
   "execution_count": 30,
   "id": "c8f69aff-265b-4af8-8e5c-ae20bd7cc04b",
   "metadata": {},
   "outputs": [
    {
     "data": {
      "text/html": [
       "<div>\n",
       "<style scoped>\n",
       "    .dataframe tbody tr th:only-of-type {\n",
       "        vertical-align: middle;\n",
       "    }\n",
       "\n",
       "    .dataframe tbody tr th {\n",
       "        vertical-align: top;\n",
       "    }\n",
       "\n",
       "    .dataframe thead th {\n",
       "        text-align: right;\n",
       "    }\n",
       "</style>\n",
       "<table border=\"1\" class=\"dataframe\">\n",
       "  <thead>\n",
       "    <tr style=\"text-align: right;\">\n",
       "      <th></th>\n",
       "      <th>Order ID</th>\n",
       "      <th>Product</th>\n",
       "      <th>Quantity Ordered</th>\n",
       "      <th>Price Each</th>\n",
       "      <th>Order Date</th>\n",
       "      <th>Purchase Address</th>\n",
       "    </tr>\n",
       "  </thead>\n",
       "  <tbody>\n",
       "    <tr>\n",
       "      <th>875</th>\n",
       "      <td>142071</td>\n",
       "      <td>AA Batteries (4-pack)</td>\n",
       "      <td>1</td>\n",
       "      <td>3.84</td>\n",
       "      <td>01/17/19 23:02</td>\n",
       "      <td>131 2nd St, Boston, MA 02215</td>\n",
       "    </tr>\n",
       "    <tr>\n",
       "      <th>4126</th>\n",
       "      <td>145143</td>\n",
       "      <td>Lightning Charging Cable</td>\n",
       "      <td>1</td>\n",
       "      <td>14.95</td>\n",
       "      <td>01/06/19 03:01</td>\n",
       "      <td>182 Jefferson St, San Francisco, CA 94016</td>\n",
       "    </tr>\n",
       "    <tr>\n",
       "      <th>5811</th>\n",
       "      <td>146765</td>\n",
       "      <td>Google Phone</td>\n",
       "      <td>1</td>\n",
       "      <td>600</td>\n",
       "      <td>01/21/19 11:23</td>\n",
       "      <td>918 Highland St, New York City, NY 10001</td>\n",
       "    </tr>\n",
       "    <tr>\n",
       "      <th>6807</th>\n",
       "      <td>147707</td>\n",
       "      <td>Wired Headphones</td>\n",
       "      <td>1</td>\n",
       "      <td>11.99</td>\n",
       "      <td>01/04/19 16:50</td>\n",
       "      <td>883 4th St, Dallas, TX 75001</td>\n",
       "    </tr>\n",
       "    <tr>\n",
       "      <th>8134</th>\n",
       "      <td>148984</td>\n",
       "      <td>USB-C Charging Cable</td>\n",
       "      <td>1</td>\n",
       "      <td>11.95</td>\n",
       "      <td>01/08/19 17:36</td>\n",
       "      <td>562 14th St, Boston, MA 02215</td>\n",
       "    </tr>\n",
       "    <tr>\n",
       "      <th>...</th>\n",
       "      <td>...</td>\n",
       "      <td>...</td>\n",
       "      <td>...</td>\n",
       "      <td>...</td>\n",
       "      <td>...</td>\n",
       "      <td>...</td>\n",
       "    </tr>\n",
       "    <tr>\n",
       "      <th>19894</th>\n",
       "      <td>314675</td>\n",
       "      <td>AA Batteries (4-pack)</td>\n",
       "      <td>1</td>\n",
       "      <td>3.84</td>\n",
       "      <td>12/26/19 09:01</td>\n",
       "      <td>927 13th St, San Francisco, CA 94016</td>\n",
       "    </tr>\n",
       "    <tr>\n",
       "      <th>20452</th>\n",
       "      <td>315204</td>\n",
       "      <td>Wired Headphones</td>\n",
       "      <td>1</td>\n",
       "      <td>11.99</td>\n",
       "      <td>12/12/19 12:41</td>\n",
       "      <td>680 6th St, San Francisco, CA 94016</td>\n",
       "    </tr>\n",
       "    <tr>\n",
       "      <th>21240</th>\n",
       "      <td>315955</td>\n",
       "      <td>ThinkPad Laptop</td>\n",
       "      <td>1</td>\n",
       "      <td>999.99</td>\n",
       "      <td>12/26/19 17:28</td>\n",
       "      <td>588 Chestnut St, Seattle, WA 98101</td>\n",
       "    </tr>\n",
       "    <tr>\n",
       "      <th>21467</th>\n",
       "      <td>316173</td>\n",
       "      <td>AAA Batteries (4-pack)</td>\n",
       "      <td>1</td>\n",
       "      <td>2.99</td>\n",
       "      <td>12/22/19 22:44</td>\n",
       "      <td>907 Sunset St, Portland, OR 97035</td>\n",
       "    </tr>\n",
       "    <tr>\n",
       "      <th>23352</th>\n",
       "      <td>317971</td>\n",
       "      <td>AA Batteries (4-pack)</td>\n",
       "      <td>1</td>\n",
       "      <td>3.84</td>\n",
       "      <td>12/17/19 18:39</td>\n",
       "      <td>250 Chestnut St, San Francisco, CA 94016</td>\n",
       "    </tr>\n",
       "  </tbody>\n",
       "</table>\n",
       "<p>264 rows × 6 columns</p>\n",
       "</div>"
      ],
      "text/plain": [
       "      Order ID                   Product Quantity Ordered Price Each  \\\n",
       "875     142071     AA Batteries (4-pack)                1       3.84   \n",
       "4126    145143  Lightning Charging Cable                1      14.95   \n",
       "5811    146765              Google Phone                1        600   \n",
       "6807    147707          Wired Headphones                1      11.99   \n",
       "8134    148984      USB-C Charging Cable                1      11.95   \n",
       "...        ...                       ...              ...        ...   \n",
       "19894   314675     AA Batteries (4-pack)                1       3.84   \n",
       "20452   315204          Wired Headphones                1      11.99   \n",
       "21240   315955           ThinkPad Laptop                1     999.99   \n",
       "21467   316173    AAA Batteries (4-pack)                1       2.99   \n",
       "23352   317971     AA Batteries (4-pack)                1       3.84   \n",
       "\n",
       "           Order Date                           Purchase Address  \n",
       "875    01/17/19 23:02               131 2nd St, Boston, MA 02215  \n",
       "4126   01/06/19 03:01  182 Jefferson St, San Francisco, CA 94016  \n",
       "5811   01/21/19 11:23   918 Highland St, New York City, NY 10001  \n",
       "6807   01/04/19 16:50               883 4th St, Dallas, TX 75001  \n",
       "8134   01/08/19 17:36              562 14th St, Boston, MA 02215  \n",
       "...               ...                                        ...  \n",
       "19894  12/26/19 09:01       927 13th St, San Francisco, CA 94016  \n",
       "20452  12/12/19 12:41        680 6th St, San Francisco, CA 94016  \n",
       "21240  12/26/19 17:28         588 Chestnut St, Seattle, WA 98101  \n",
       "21467  12/22/19 22:44          907 Sunset St, Portland, OR 97035  \n",
       "23352  12/17/19 18:39   250 Chestnut St, San Francisco, CA 94016  \n",
       "\n",
       "[264 rows x 6 columns]"
      ]
     },
     "execution_count": 30,
     "metadata": {},
     "output_type": "execute_result"
    }
   ],
   "source": [
    "ecom1[(ecom1.duplicated()) & (ecom1[\"Order ID\"] != \"Order ID\") ]"
   ]
  },
  {
   "cell_type": "code",
   "execution_count": 32,
   "id": "e2404983-2f9e-4a11-8135-91d28390dac5",
   "metadata": {},
   "outputs": [
    {
     "data": {
      "text/html": [
       "<div>\n",
       "<style scoped>\n",
       "    .dataframe tbody tr th:only-of-type {\n",
       "        vertical-align: middle;\n",
       "    }\n",
       "\n",
       "    .dataframe tbody tr th {\n",
       "        vertical-align: top;\n",
       "    }\n",
       "\n",
       "    .dataframe thead th {\n",
       "        text-align: right;\n",
       "    }\n",
       "</style>\n",
       "<table border=\"1\" class=\"dataframe\">\n",
       "  <thead>\n",
       "    <tr style=\"text-align: right;\">\n",
       "      <th></th>\n",
       "      <th>Order ID</th>\n",
       "      <th>Product</th>\n",
       "      <th>Quantity Ordered</th>\n",
       "      <th>Price Each</th>\n",
       "      <th>Order Date</th>\n",
       "      <th>Purchase Address</th>\n",
       "    </tr>\n",
       "  </thead>\n",
       "  <tbody>\n",
       "    <tr>\n",
       "      <th>874</th>\n",
       "      <td>142071</td>\n",
       "      <td>AA Batteries (4-pack)</td>\n",
       "      <td>1</td>\n",
       "      <td>3.84</td>\n",
       "      <td>01/17/19 23:02</td>\n",
       "      <td>131 2nd St, Boston, MA 02215</td>\n",
       "    </tr>\n",
       "    <tr>\n",
       "      <th>875</th>\n",
       "      <td>142071</td>\n",
       "      <td>AA Batteries (4-pack)</td>\n",
       "      <td>1</td>\n",
       "      <td>3.84</td>\n",
       "      <td>01/17/19 23:02</td>\n",
       "      <td>131 2nd St, Boston, MA 02215</td>\n",
       "    </tr>\n",
       "  </tbody>\n",
       "</table>\n",
       "</div>"
      ],
      "text/plain": [
       "    Order ID                Product Quantity Ordered Price Each  \\\n",
       "874   142071  AA Batteries (4-pack)                1       3.84   \n",
       "875   142071  AA Batteries (4-pack)                1       3.84   \n",
       "\n",
       "         Order Date              Purchase Address  \n",
       "874  01/17/19 23:02  131 2nd St, Boston, MA 02215  \n",
       "875  01/17/19 23:02  131 2nd St, Boston, MA 02215  "
      ]
     },
     "execution_count": 32,
     "metadata": {},
     "output_type": "execute_result"
    }
   ],
   "source": [
    "ecom1[ecom1['Order ID'] == \"142071\"]"
   ]
  },
  {
   "cell_type": "code",
   "execution_count": 36,
   "id": "7671a938-ec16-4b66-88a5-cea9675c7ac1",
   "metadata": {},
   "outputs": [],
   "source": [
    "# 2. Drop  the duplicate rows:         \n",
    "ecom2 = ecom1.drop_duplicates()"
   ]
  },
  {
   "cell_type": "code",
   "execution_count": 38,
   "id": "b2dc6382-f5c4-42d0-a96e-0e522bbb3fc8",
   "metadata": {},
   "outputs": [
    {
     "data": {
      "text/plain": [
       "0"
      ]
     },
     "execution_count": 38,
     "metadata": {},
     "output_type": "execute_result"
    }
   ],
   "source": [
    "# 3. check Duplicates after modification                             \n",
    "ecom2.duplicated().sum()"
   ]
  },
  {
   "cell_type": "code",
   "execution_count": 40,
   "id": "5ba44cdc-957e-4ff1-9b9e-235619070cd5",
   "metadata": {},
   "outputs": [
    {
     "data": {
      "text/plain": [
       "(185687, 6)"
      ]
     },
     "execution_count": 40,
     "metadata": {},
     "output_type": "execute_result"
    }
   ],
   "source": [
    "ecom2.shape"
   ]
  },
  {
   "cell_type": "code",
   "execution_count": 42,
   "id": "3c2615ee-e4b0-43d4-9ca6-85b84109ee1c",
   "metadata": {},
   "outputs": [
    {
     "data": {
      "text/plain": [
       "1163"
      ]
     },
     "execution_count": 42,
     "metadata": {},
     "output_type": "execute_result"
    }
   ],
   "source": [
    "# total number of row reduction is (545+618)\n",
    "186850-185687"
   ]
  },
  {
   "cell_type": "code",
   "execution_count": 44,
   "id": "b4ea168b-535f-4001-9484-dc5ddb1b9a04",
   "metadata": {},
   "outputs": [
    {
     "data": {
      "text/html": [
       "<div>\n",
       "<style scoped>\n",
       "    .dataframe tbody tr th:only-of-type {\n",
       "        vertical-align: middle;\n",
       "    }\n",
       "\n",
       "    .dataframe tbody tr th {\n",
       "        vertical-align: top;\n",
       "    }\n",
       "\n",
       "    .dataframe thead th {\n",
       "        text-align: right;\n",
       "    }\n",
       "</style>\n",
       "<table border=\"1\" class=\"dataframe\">\n",
       "  <thead>\n",
       "    <tr style=\"text-align: right;\">\n",
       "      <th></th>\n",
       "      <th>Order ID</th>\n",
       "      <th>Product</th>\n",
       "      <th>Quantity Ordered</th>\n",
       "      <th>Price Each</th>\n",
       "      <th>Order Date</th>\n",
       "      <th>Purchase Address</th>\n",
       "    </tr>\n",
       "  </thead>\n",
       "  <tbody>\n",
       "    <tr>\n",
       "      <th>0</th>\n",
       "      <td>141234</td>\n",
       "      <td>iPhone</td>\n",
       "      <td>1</td>\n",
       "      <td>700</td>\n",
       "      <td>01/22/19 21:25</td>\n",
       "      <td>944 Walnut St, Boston, MA 02215</td>\n",
       "    </tr>\n",
       "    <tr>\n",
       "      <th>1</th>\n",
       "      <td>141235</td>\n",
       "      <td>Lightning Charging Cable</td>\n",
       "      <td>1</td>\n",
       "      <td>14.95</td>\n",
       "      <td>01/28/19 14:15</td>\n",
       "      <td>185 Maple St, Portland, OR 97035</td>\n",
       "    </tr>\n",
       "    <tr>\n",
       "      <th>2</th>\n",
       "      <td>141236</td>\n",
       "      <td>Wired Headphones</td>\n",
       "      <td>2</td>\n",
       "      <td>11.99</td>\n",
       "      <td>01/17/19 13:33</td>\n",
       "      <td>538 Adams St, San Francisco, CA 94016</td>\n",
       "    </tr>\n",
       "    <tr>\n",
       "      <th>3</th>\n",
       "      <td>141237</td>\n",
       "      <td>27in FHD Monitor</td>\n",
       "      <td>1</td>\n",
       "      <td>149.99</td>\n",
       "      <td>01/05/19 20:33</td>\n",
       "      <td>738 10th St, Los Angeles, CA 90001</td>\n",
       "    </tr>\n",
       "    <tr>\n",
       "      <th>4</th>\n",
       "      <td>141238</td>\n",
       "      <td>Wired Headphones</td>\n",
       "      <td>1</td>\n",
       "      <td>11.99</td>\n",
       "      <td>01/25/19 11:59</td>\n",
       "      <td>387 10th St, Austin, TX 73301</td>\n",
       "    </tr>\n",
       "  </tbody>\n",
       "</table>\n",
       "</div>"
      ],
      "text/plain": [
       "  Order ID                   Product Quantity Ordered Price Each  \\\n",
       "0   141234                    iPhone                1        700   \n",
       "1   141235  Lightning Charging Cable                1      14.95   \n",
       "2   141236          Wired Headphones                2      11.99   \n",
       "3   141237          27in FHD Monitor                1     149.99   \n",
       "4   141238          Wired Headphones                1      11.99   \n",
       "\n",
       "       Order Date                       Purchase Address  \n",
       "0  01/22/19 21:25        944 Walnut St, Boston, MA 02215  \n",
       "1  01/28/19 14:15       185 Maple St, Portland, OR 97035  \n",
       "2  01/17/19 13:33  538 Adams St, San Francisco, CA 94016  \n",
       "3  01/05/19 20:33     738 10th St, Los Angeles, CA 90001  \n",
       "4  01/25/19 11:59          387 10th St, Austin, TX 73301  "
      ]
     },
     "execution_count": 44,
     "metadata": {},
     "output_type": "execute_result"
    }
   ],
   "source": [
    "ecom2.head()"
   ]
  },
  {
   "cell_type": "code",
   "execution_count": null,
   "id": "a1d992e9-2544-4948-8cf4-3c9fa7390777",
   "metadata": {},
   "outputs": [],
   "source": []
  },
  {
   "cell_type": "markdown",
   "id": "bb2663b1-dd0f-46a5-b510-a7911af1fe38",
   "metadata": {},
   "source": [
    "### 4.3 Standardisation the data"
   ]
  },
  {
   "cell_type": "code",
   "execution_count": 47,
   "id": "80a4f336-2f1b-4048-83c1-159e2254b8c1",
   "metadata": {},
   "outputs": [
    {
     "data": {
      "text/plain": [
       "Order ID            object\n",
       "Product             object\n",
       "Quantity Ordered    object\n",
       "Price Each          object\n",
       "Order Date          object\n",
       "Purchase Address    object\n",
       "dtype: object"
      ]
     },
     "execution_count": 47,
     "metadata": {},
     "output_type": "execute_result"
    }
   ],
   "source": [
    "# 1. show all the columns datatypes:                    \n",
    "ecom2.dtypes"
   ]
  },
  {
   "cell_type": "code",
   "execution_count": 49,
   "id": "57d235fe-79e4-45c9-979b-b499f734d65e",
   "metadata": {},
   "outputs": [
    {
     "data": {
      "text/plain": [
       "array(['1', '2', '3', '5', '4', '7', 'Quantity Ordered', '6', '9', '8'],\n",
       "      dtype=object)"
      ]
     },
     "execution_count": 49,
     "metadata": {},
     "output_type": "execute_result"
    }
   ],
   "source": [
    "ecom2[\"Quantity Ordered\"].unique()                                                      "
   ]
  },
  {
   "cell_type": "code",
   "execution_count": 51,
   "id": "347cb48b-1af1-4fa4-892d-61cfe5a18c8b",
   "metadata": {},
   "outputs": [
    {
     "data": {
      "text/plain": [
       "array(['700', '14.95', '11.99', '149.99', '2.99', '389.99', '11.95',\n",
       "       '99.99', '150', '1700', '300', '400', '3.84', '600', '109.99',\n",
       "       '379.99', '999.99', '600.0', 'Price Each', '700.0', '150.0',\n",
       "       '300.0', '1700.0', '400.0'], dtype=object)"
      ]
     },
     "execution_count": 51,
     "metadata": {},
     "output_type": "execute_result"
    }
   ],
   "source": [
    "ecom2[\"Price Each\"].unique()                                                               "
   ]
  },
  {
   "cell_type": "code",
   "execution_count": 53,
   "id": "aa6e4587-f65d-485f-b13b-d9a386db3179",
   "metadata": {},
   "outputs": [
    {
     "data": {
      "text/html": [
       "<div>\n",
       "<style scoped>\n",
       "    .dataframe tbody tr th:only-of-type {\n",
       "        vertical-align: middle;\n",
       "    }\n",
       "\n",
       "    .dataframe tbody tr th {\n",
       "        vertical-align: top;\n",
       "    }\n",
       "\n",
       "    .dataframe thead th {\n",
       "        text-align: right;\n",
       "    }\n",
       "</style>\n",
       "<table border=\"1\" class=\"dataframe\">\n",
       "  <thead>\n",
       "    <tr style=\"text-align: right;\">\n",
       "      <th></th>\n",
       "      <th>Order ID</th>\n",
       "      <th>Product</th>\n",
       "      <th>Quantity Ordered</th>\n",
       "      <th>Price Each</th>\n",
       "      <th>Order Date</th>\n",
       "      <th>Purchase Address</th>\n",
       "    </tr>\n",
       "  </thead>\n",
       "  <tbody>\n",
       "    <tr>\n",
       "      <th>1073</th>\n",
       "      <td>Order ID</td>\n",
       "      <td>Product</td>\n",
       "      <td>Quantity Ordered</td>\n",
       "      <td>Price Each</td>\n",
       "      <td>Order Date</td>\n",
       "      <td>Purchase Address</td>\n",
       "    </tr>\n",
       "  </tbody>\n",
       "</table>\n",
       "</div>"
      ],
      "text/plain": [
       "      Order ID  Product  Quantity Ordered  Price Each  Order Date  \\\n",
       "1073  Order ID  Product  Quantity Ordered  Price Each  Order Date   \n",
       "\n",
       "      Purchase Address  \n",
       "1073  Purchase Address  "
      ]
     },
     "execution_count": 53,
     "metadata": {},
     "output_type": "execute_result"
    }
   ],
   "source": [
    "ecom2[~ecom2[\"Order ID\"].str.isnumeric()]"
   ]
  },
  {
   "cell_type": "code",
   "execution_count": 55,
   "id": "d4838969-54a3-4ed6-b091-dde310af597a",
   "metadata": {},
   "outputs": [],
   "source": [
    "# 2. Drop  the column index 1073:\n",
    "ecom3 = ecom2[ecom2[\"Order ID\"].str.isnumeric()]"
   ]
  },
  {
   "cell_type": "code",
   "execution_count": 57,
   "id": "2954486e-834e-4125-bf71-e67e8832d7f4",
   "metadata": {},
   "outputs": [
    {
     "data": {
      "text/plain": [
       "Order ID            object\n",
       "Product             object\n",
       "Quantity Ordered    object\n",
       "Price Each          object\n",
       "Order Date          object\n",
       "Purchase Address    object\n",
       "dtype: object"
      ]
     },
     "execution_count": 57,
     "metadata": {},
     "output_type": "execute_result"
    }
   ],
   "source": [
    "ecom3.dtypes"
   ]
  },
  {
   "cell_type": "code",
   "execution_count": 59,
   "id": "381307d5-2773-4e6d-a669-999f57763d36",
   "metadata": {},
   "outputs": [
    {
     "data": {
      "text/html": [
       "<div>\n",
       "<style scoped>\n",
       "    .dataframe tbody tr th:only-of-type {\n",
       "        vertical-align: middle;\n",
       "    }\n",
       "\n",
       "    .dataframe tbody tr th {\n",
       "        vertical-align: top;\n",
       "    }\n",
       "\n",
       "    .dataframe thead th {\n",
       "        text-align: right;\n",
       "    }\n",
       "</style>\n",
       "<table border=\"1\" class=\"dataframe\">\n",
       "  <thead>\n",
       "    <tr style=\"text-align: right;\">\n",
       "      <th></th>\n",
       "      <th>Order ID</th>\n",
       "      <th>Product</th>\n",
       "      <th>Quantity Ordered</th>\n",
       "      <th>Price Each</th>\n",
       "      <th>Order Date</th>\n",
       "      <th>Purchase Address</th>\n",
       "    </tr>\n",
       "  </thead>\n",
       "  <tbody>\n",
       "    <tr>\n",
       "      <th>1073</th>\n",
       "      <td>151528</td>\n",
       "      <td>AAA Batteries (4-pack)</td>\n",
       "      <td>1</td>\n",
       "      <td>2.99</td>\n",
       "      <td>02/11/19 16:05</td>\n",
       "      <td>813 8th St, Austin, TX 73301</td>\n",
       "    </tr>\n",
       "    <tr>\n",
       "      <th>1073</th>\n",
       "      <td>163024</td>\n",
       "      <td>USB-C Charging Cable</td>\n",
       "      <td>1</td>\n",
       "      <td>11.95</td>\n",
       "      <td>03/29/19 14:52</td>\n",
       "      <td>580 Lincoln St, Dallas, TX 75001</td>\n",
       "    </tr>\n",
       "    <tr>\n",
       "      <th>1073</th>\n",
       "      <td>177578</td>\n",
       "      <td>USB-C Charging Cable</td>\n",
       "      <td>1</td>\n",
       "      <td>11.95</td>\n",
       "      <td>04/28/19 22:51</td>\n",
       "      <td>752 Park St, Dallas, TX 75001</td>\n",
       "    </tr>\n",
       "    <tr>\n",
       "      <th>1073</th>\n",
       "      <td>195106</td>\n",
       "      <td>Apple Airpods Headphones</td>\n",
       "      <td>1</td>\n",
       "      <td>150</td>\n",
       "      <td>05/31/19 20:54</td>\n",
       "      <td>908 Chestnut St, San Francisco, CA 94016</td>\n",
       "    </tr>\n",
       "    <tr>\n",
       "      <th>1073</th>\n",
       "      <td>210944</td>\n",
       "      <td>27in FHD Monitor</td>\n",
       "      <td>1</td>\n",
       "      <td>149.99</td>\n",
       "      <td>06/21/19 16:28</td>\n",
       "      <td>773 Cedar St, Seattle, WA 98101</td>\n",
       "    </tr>\n",
       "    <tr>\n",
       "      <th>1073</th>\n",
       "      <td>223940</td>\n",
       "      <td>Macbook Pro Laptop</td>\n",
       "      <td>1</td>\n",
       "      <td>1700</td>\n",
       "      <td>07/30/19 17:42</td>\n",
       "      <td>504 14th St, Portland, OR 97035</td>\n",
       "    </tr>\n",
       "    <tr>\n",
       "      <th>1073</th>\n",
       "      <td>237704</td>\n",
       "      <td>AAA Batteries (4-pack)</td>\n",
       "      <td>1</td>\n",
       "      <td>2.99</td>\n",
       "      <td>08/14/19 20:38</td>\n",
       "      <td>498 Washington St, Austin, TX 73301</td>\n",
       "    </tr>\n",
       "    <tr>\n",
       "      <th>1073</th>\n",
       "      <td>249182</td>\n",
       "      <td>Google Phone</td>\n",
       "      <td>1</td>\n",
       "      <td>600</td>\n",
       "      <td>09/26/19 21:19</td>\n",
       "      <td>350 10th St, Dallas, TX 75001</td>\n",
       "    </tr>\n",
       "    <tr>\n",
       "      <th>1073</th>\n",
       "      <td>260375</td>\n",
       "      <td>ThinkPad Laptop</td>\n",
       "      <td>1</td>\n",
       "      <td>999.99</td>\n",
       "      <td>10/16/19 10:42</td>\n",
       "      <td>195 14th St, San Francisco, CA 94016</td>\n",
       "    </tr>\n",
       "    <tr>\n",
       "      <th>1073</th>\n",
       "      <td>279822</td>\n",
       "      <td>AA Batteries (4-pack)</td>\n",
       "      <td>1</td>\n",
       "      <td>3.84</td>\n",
       "      <td>11/16/19 14:08</td>\n",
       "      <td>619 Highland St, San Francisco, CA 94016</td>\n",
       "    </tr>\n",
       "    <tr>\n",
       "      <th>1073</th>\n",
       "      <td>296687</td>\n",
       "      <td>Lightning Charging Cable</td>\n",
       "      <td>1</td>\n",
       "      <td>14.95</td>\n",
       "      <td>12/07/19 21:39</td>\n",
       "      <td>312 Maple St, Atlanta, GA 30301</td>\n",
       "    </tr>\n",
       "  </tbody>\n",
       "</table>\n",
       "</div>"
      ],
      "text/plain": [
       "     Order ID                   Product Quantity Ordered Price Each  \\\n",
       "1073   151528    AAA Batteries (4-pack)                1       2.99   \n",
       "1073   163024      USB-C Charging Cable                1      11.95   \n",
       "1073   177578      USB-C Charging Cable                1      11.95   \n",
       "1073   195106  Apple Airpods Headphones                1        150   \n",
       "1073   210944          27in FHD Monitor                1     149.99   \n",
       "1073   223940        Macbook Pro Laptop                1       1700   \n",
       "1073   237704    AAA Batteries (4-pack)                1       2.99   \n",
       "1073   249182              Google Phone                1        600   \n",
       "1073   260375           ThinkPad Laptop                1     999.99   \n",
       "1073   279822     AA Batteries (4-pack)                1       3.84   \n",
       "1073   296687  Lightning Charging Cable                1      14.95   \n",
       "\n",
       "          Order Date                          Purchase Address  \n",
       "1073  02/11/19 16:05              813 8th St, Austin, TX 73301  \n",
       "1073  03/29/19 14:52          580 Lincoln St, Dallas, TX 75001  \n",
       "1073  04/28/19 22:51             752 Park St, Dallas, TX 75001  \n",
       "1073  05/31/19 20:54  908 Chestnut St, San Francisco, CA 94016  \n",
       "1073  06/21/19 16:28           773 Cedar St, Seattle, WA 98101  \n",
       "1073  07/30/19 17:42           504 14th St, Portland, OR 97035  \n",
       "1073  08/14/19 20:38       498 Washington St, Austin, TX 73301  \n",
       "1073  09/26/19 21:19             350 10th St, Dallas, TX 75001  \n",
       "1073  10/16/19 10:42      195 14th St, San Francisco, CA 94016  \n",
       "1073  11/16/19 14:08  619 Highland St, San Francisco, CA 94016  \n",
       "1073  12/07/19 21:39           312 Maple St, Atlanta, GA 30301  "
      ]
     },
     "execution_count": 59,
     "metadata": {},
     "output_type": "execute_result"
    }
   ],
   "source": [
    "ecom3.loc[1073]"
   ]
  },
  {
   "cell_type": "code",
   "execution_count": 61,
   "id": "37dd73d7-4c09-4c00-94c4-5016a1cbae0c",
   "metadata": {},
   "outputs": [],
   "source": [
    "# 2. Now reset  the index:                                                          \n",
    "ecom3.reset_index(drop = True , inplace = True)"
   ]
  },
  {
   "cell_type": "code",
   "execution_count": 63,
   "id": "6269b4a1-609e-41f8-84fe-514badcad027",
   "metadata": {},
   "outputs": [],
   "source": [
    "# 3. Change the datatypes of these column:                                                   \n",
    "ecom3[\"Quantity Ordered\"] = ecom3[\"Quantity Ordered\"].astype(int)\n",
    "ecom3[\"Price Each\"] = ecom3[\"Price Each\"].astype(float)\n"
   ]
  },
  {
   "cell_type": "code",
   "execution_count": 65,
   "id": "6e26ce4f-f1f2-4e0a-ae35-448c995b4cfb",
   "metadata": {},
   "outputs": [],
   "source": [
    "# 4. Correct  the datatype of the 'Order Date' column:                                       \n",
    "ecom3[\"Order Date\"] = pd.to_datetime(ecom3[\"Order Date\"])\n"
   ]
  },
  {
   "cell_type": "code",
   "execution_count": 66,
   "id": "5401bd83-d5d9-4ff1-a5b1-7e35c2c75979",
   "metadata": {},
   "outputs": [
    {
     "data": {
      "text/plain": [
       "Order ID                    object\n",
       "Product                     object\n",
       "Quantity Ordered             int32\n",
       "Price Each                 float64\n",
       "Order Date          datetime64[ns]\n",
       "Purchase Address            object\n",
       "dtype: object"
      ]
     },
     "execution_count": 66,
     "metadata": {},
     "output_type": "execute_result"
    }
   ],
   "source": [
    "# 5. check the datatypes after modification:                                                         \n",
    "ecom3.dtypes"
   ]
  },
  {
   "cell_type": "code",
   "execution_count": null,
   "id": "c7dffb7a-debb-47ef-9fd9-b1bd8575602a",
   "metadata": {},
   "outputs": [],
   "source": []
  },
  {
   "cell_type": "markdown",
   "id": "60504646-b828-4b02-8119-fc8284dcb68c",
   "metadata": {},
   "source": [
    "# 5. Add some features"
   ]
  },
  {
   "cell_type": "code",
   "execution_count": 70,
   "id": "05d26915-4bce-42ee-b7ec-8c955722540a",
   "metadata": {},
   "outputs": [],
   "source": [
    "# Add day and month \n",
    "ecom3['Day'] = ecom3[\"Order Date\"].dt.day                                           \n",
    "ecom3['Month'] = ecom3[\"Order Date\"].dt.month\n",
    "\n",
    "# add day and month name\n",
    "ecom3['Day_name'] = ecom3[\"Order Date\"].dt.day_name()\n",
    "ecom3['Month_name'] = ecom3[\"Order Date\"].dt.month_name()\n"
   ]
  },
  {
   "cell_type": "code",
   "execution_count": 72,
   "id": "7cd6acd6-4f13-4668-b436-bac5ddb725bb",
   "metadata": {},
   "outputs": [],
   "source": [
    "# Extract the street name , city name , and pct code from 'Purchase Address' column:\n",
    "ecom3[['Street' , 'City' , 'CPT_code' ]]= ecom3['Purchase Address'].str.split(',' , expand = True)              "
   ]
  },
  {
   "cell_type": "code",
   "execution_count": 74,
   "id": "04385108-0fca-441d-8ef3-00b919812477",
   "metadata": {},
   "outputs": [
    {
     "data": {
      "text/plain": [
       "array([' Boston', ' Portland', ' San Francisco', ' Los Angeles',\n",
       "       ' Austin', ' Atlanta', ' Seattle', ' New York City', ' Dallas'],\n",
       "      dtype=object)"
      ]
     },
     "execution_count": 74,
     "metadata": {},
     "output_type": "execute_result"
    }
   ],
   "source": [
    "# show the city column content:                                                                  \n",
    "ecom3['City'].unique()"
   ]
  },
  {
   "cell_type": "code",
   "execution_count": 76,
   "id": "eede2a8f-828c-423d-856b-8e15fdb1eff2",
   "metadata": {},
   "outputs": [],
   "source": [
    "# Make Total Price column:\n",
    "ecom3['Total Price'] = ecom3['Quantity Ordered'] * ecom3['Price Each']                               "
   ]
  },
  {
   "cell_type": "code",
   "execution_count": 80,
   "id": "f5e3bfb5-ae33-4d07-95d7-a8f147cfebe7",
   "metadata": {},
   "outputs": [
    {
     "data": {
      "text/plain": [
       "0         700.00\n",
       "1          14.95\n",
       "2          23.98\n",
       "3         149.99\n",
       "4          11.99\n",
       "           ...  \n",
       "185681     14.95\n",
       "185682      7.68\n",
       "185683    400.00\n",
       "185684     11.99\n",
       "185685     99.99\n",
       "Name: Total Price, Length: 185686, dtype: float64"
      ]
     },
     "execution_count": 80,
     "metadata": {},
     "output_type": "execute_result"
    }
   ],
   "source": [
    "ecom3['Total Price']                            "
   ]
  },
  {
   "cell_type": "code",
   "execution_count": 82,
   "id": "a4ce30b7-582f-4efc-a3b7-fc9fdd7e7dd7",
   "metadata": {},
   "outputs": [
    {
     "data": {
      "text/plain": [
       "Product\n",
       "USB-C Charging Cable          21859\n",
       "Lightning Charging Cable      21610\n",
       "AAA Batteries (4-pack)        20612\n",
       "AA Batteries (4-pack)         20558\n",
       "Wired Headphones              18849\n",
       "Apple Airpods Headphones      15525\n",
       "Bose SoundSport Headphones    13298\n",
       "27in FHD Monitor               7498\n",
       "iPhone                         6840\n",
       "27in 4K Gaming Monitor         6225\n",
       "34in Ultrawide Monitor         6174\n",
       "Google Phone                   5522\n",
       "Flatscreen TV                  4794\n",
       "Macbook Pro Laptop             4721\n",
       "ThinkPad Laptop                4126\n",
       "20in Monitor                   4098\n",
       "Vareebadd Phone                2065\n",
       "LG Washing Machine              666\n",
       "LG Dryer                        646\n",
       "Name: count, dtype: int64"
      ]
     },
     "execution_count": 82,
     "metadata": {},
     "output_type": "execute_result"
    }
   ],
   "source": [
    "# Show the products with count and from this I want to make a Category Column:\n",
    "ecom3['Product'].value_counts()"
   ]
  },
  {
   "cell_type": "code",
   "execution_count": 84,
   "id": "2809001c-f4fc-4061-93c2-30eb1437a8b3",
   "metadata": {},
   "outputs": [],
   "source": [
    "# make a category column:\n",
    "Product = ['Charging Cable' , 'Batteries' , 'Headphones' , \n",
    "           'Monitor' , 'Phone' , 'Laptop' , 'TV' ,                         \n",
    "           'Washing Machine' , 'Dryer']\n",
    "\n",
    "# make a function to convert the the product to category\n",
    "def product_category(Product_name):\n",
    "    for p in Product:\n",
    "        if p in Product_name:\n",
    "          Product_name = p\n",
    "    return Product_name       \n",
    "\n",
    "ecom3['Category']= ecom3['Product']\n",
    "ecom3['Category']= ecom3['Category'].apply(product_category)"
   ]
  },
  {
   "cell_type": "code",
   "execution_count": 86,
   "id": "e6d21836-60ee-41f8-810e-892635e800ba",
   "metadata": {},
   "outputs": [
    {
     "data": {
      "text/plain": [
       "Category\n",
       "Headphones         47672\n",
       "Charging Cable     43469\n",
       "Batteries          41170\n",
       "Monitor            23995\n",
       "Phone              14427\n",
       "Laptop              8847\n",
       "TV                  4794\n",
       "Washing Machine      666\n",
       "Dryer                646\n",
       "Name: count, dtype: int64"
      ]
     },
     "execution_count": 86,
     "metadata": {},
     "output_type": "execute_result"
    }
   ],
   "source": [
    "ecom3['Category'].value_counts()                                         "
   ]
  },
  {
   "cell_type": "code",
   "execution_count": 88,
   "id": "2136196e-cce0-433d-90ce-fb64f382ff39",
   "metadata": {},
   "outputs": [
    {
     "data": {
      "text/plain": [
       "185686"
      ]
     },
     "execution_count": 88,
     "metadata": {},
     "output_type": "execute_result"
    }
   ],
   "source": [
    "47672+ 43469+41170+ 23995 + 14427 + 8847 + 4794  + 666 + 646"
   ]
  },
  {
   "cell_type": "code",
   "execution_count": null,
   "id": "8fd70832-2b57-48d7-948c-fec983ce9cdd",
   "metadata": {},
   "outputs": [],
   "source": []
  },
  {
   "cell_type": "markdown",
   "id": "843f2378-f00d-4a9d-bec5-4cc5f8464e3a",
   "metadata": {},
   "source": [
    "# 6. EDA"
   ]
  },
  {
   "cell_type": "markdown",
   "id": "525a900a-2192-491a-b9c0-f8d82de5bcec",
   "metadata": {},
   "source": [
    "## 6.1. Metadata "
   ]
  },
  {
   "cell_type": "code",
   "execution_count": 92,
   "id": "3668d243-3564-492a-ac0f-a904873c6b92",
   "metadata": {},
   "outputs": [
    {
     "data": {
      "text/plain": [
       "(185686, 15)"
      ]
     },
     "execution_count": 92,
     "metadata": {},
     "output_type": "execute_result"
    }
   ],
   "source": [
    "# 1. To show the number of rows and columns\n",
    "ecom3.shape"
   ]
  },
  {
   "cell_type": "code",
   "execution_count": 94,
   "id": "8690fc5c-347d-4d44-a447-20ea574a5903",
   "metadata": {},
   "outputs": [
    {
     "data": {
      "text/plain": [
       "2785290"
      ]
     },
     "execution_count": 94,
     "metadata": {},
     "output_type": "execute_result"
    }
   ],
   "source": [
    "# 2. To show the total number of data points\n",
    "ecom3.size"
   ]
  },
  {
   "cell_type": "code",
   "execution_count": 96,
   "id": "45fb88c0-55b9-4e8d-9ae8-dffab5ad916a",
   "metadata": {},
   "outputs": [
    {
     "data": {
      "text/plain": [
       "Index(['Order ID', 'Product', 'Quantity Ordered', 'Price Each', 'Order Date',\n",
       "       'Purchase Address', 'Day', 'Month', 'Day_name', 'Month_name', 'Street',\n",
       "       'City', 'CPT_code', 'Total Price', 'Category'],\n",
       "      dtype='object')"
      ]
     },
     "execution_count": 96,
     "metadata": {},
     "output_type": "execute_result"
    }
   ],
   "source": [
    "# 3. To show the column names\n",
    "ecom3.columns"
   ]
  },
  {
   "cell_type": "code",
   "execution_count": 98,
   "id": "7e5ba521-4729-4f00-96f4-9997f814f16d",
   "metadata": {},
   "outputs": [
    {
     "name": "stdout",
     "output_type": "stream",
     "text": [
      "<class 'pandas.core.frame.DataFrame'>\n",
      "RangeIndex: 185686 entries, 0 to 185685\n",
      "Data columns (total 15 columns):\n",
      " #   Column            Non-Null Count   Dtype         \n",
      "---  ------            --------------   -----         \n",
      " 0   Order ID          185686 non-null  object        \n",
      " 1   Product           185686 non-null  object        \n",
      " 2   Quantity Ordered  185686 non-null  int32         \n",
      " 3   Price Each        185686 non-null  float64       \n",
      " 4   Order Date        185686 non-null  datetime64[ns]\n",
      " 5   Purchase Address  185686 non-null  object        \n",
      " 6   Day               185686 non-null  int32         \n",
      " 7   Month             185686 non-null  int32         \n",
      " 8   Day_name          185686 non-null  object        \n",
      " 9   Month_name        185686 non-null  object        \n",
      " 10  Street            185686 non-null  object        \n",
      " 11  City              185686 non-null  object        \n",
      " 12  CPT_code          185686 non-null  object        \n",
      " 13  Total Price       185686 non-null  float64       \n",
      " 14  Category          185686 non-null  object        \n",
      "dtypes: datetime64[ns](1), float64(2), int32(3), object(9)\n",
      "memory usage: 19.1+ MB\n"
     ]
    }
   ],
   "source": [
    "# 4. To show the non-null counts and datatypes of the columns\n",
    "ecom3.info()"
   ]
  },
  {
   "cell_type": "code",
   "execution_count": 100,
   "id": "dfff5fc3-7135-439d-b2f8-8dd9a8b2f990",
   "metadata": {},
   "outputs": [
    {
     "data": {
      "text/plain": [
       "Order ID                    object\n",
       "Product                     object\n",
       "Quantity Ordered             int32\n",
       "Price Each                 float64\n",
       "Order Date          datetime64[ns]\n",
       "Purchase Address            object\n",
       "Day                          int32\n",
       "Month                        int32\n",
       "Day_name                    object\n",
       "Month_name                  object\n",
       "Street                      object\n",
       "City                        object\n",
       "CPT_code                    object\n",
       "Total Price                float64\n",
       "Category                    object\n",
       "dtype: object"
      ]
     },
     "execution_count": 100,
     "metadata": {},
     "output_type": "execute_result"
    }
   ],
   "source": [
    "# 5. To  show the datatypes of the columns\n",
    "ecom3.dtypes"
   ]
  },
  {
   "cell_type": "code",
   "execution_count": 102,
   "id": "6fe134af-549c-4ce0-9812-94741e0e3b03",
   "metadata": {},
   "outputs": [],
   "source": [
    "# ecom3.to_csv(\"C:/Users/Shantanu/Downloads/ecom1.csv\" , index = False)\n",
    "ecom3.to_excel(\"C:/Users/Shantanu/Downloads/ecom1.xlsx\" , index = False)"
   ]
  },
  {
   "cell_type": "code",
   "execution_count": 104,
   "id": "2d7bbf2a-1fea-4809-9b1d-35bca4391195",
   "metadata": {},
   "outputs": [
    {
     "data": {
      "text/plain": [
       "Order ID            0\n",
       "Product             0\n",
       "Quantity Ordered    0\n",
       "Price Each          0\n",
       "Order Date          0\n",
       "Purchase Address    0\n",
       "Day                 0\n",
       "Month               0\n",
       "Day_name            0\n",
       "Month_name          0\n",
       "Street              0\n",
       "City                0\n",
       "CPT_code            0\n",
       "Total Price         0\n",
       "Category            0\n",
       "dtype: int64"
      ]
     },
     "execution_count": 104,
     "metadata": {},
     "output_type": "execute_result"
    }
   ],
   "source": [
    "# 6.Null values in the columns\n",
    "ecom3.isna().sum()"
   ]
  },
  {
   "cell_type": "code",
   "execution_count": 106,
   "id": "fabe542e-08d2-4f70-93ae-488e2c856bdc",
   "metadata": {},
   "outputs": [
    {
     "data": {
      "text/plain": [
       "0"
      ]
     },
     "execution_count": 106,
     "metadata": {},
     "output_type": "execute_result"
    }
   ],
   "source": [
    "# 7.Number of duplicate rows\n",
    "ecom3.duplicated().sum()"
   ]
  },
  {
   "cell_type": "code",
   "execution_count": 108,
   "id": "25dbf686-fb37-4311-bacc-f67fa4b8a5cb",
   "metadata": {},
   "outputs": [
    {
     "data": {
      "text/plain": [
       "RangeIndex(start=0, stop=185686, step=1)"
      ]
     },
     "execution_count": 108,
     "metadata": {},
     "output_type": "execute_result"
    }
   ],
   "source": [
    "# 8. To show the index \n",
    "ecom3.index"
   ]
  },
  {
   "cell_type": "code",
   "execution_count": 55,
   "id": "e1ad0209-2b6d-4571-9264-1b1fba76d7bd",
   "metadata": {},
   "outputs": [
    {
     "data": {
      "text/plain": [
       "Order ID            178437\n",
       "Product                 19\n",
       "Quantity Ordered         9\n",
       "Price Each              17\n",
       "Order Date          142395\n",
       "Purchase Address    140787\n",
       "Day                     31\n",
       "Month                   12\n",
       "Day_name                 7\n",
       "Month_name              12\n",
       "Street               46837\n",
       "City                     9\n",
       "CPT_code                10\n",
       "Total Price             54\n",
       "Category                 9\n",
       "dtype: int64"
      ]
     },
     "execution_count": 55,
     "metadata": {},
     "output_type": "execute_result"
    }
   ],
   "source": [
    "# 9.Columns unique values count\n",
    "ecom3.nunique()"
   ]
  },
  {
   "cell_type": "code",
   "execution_count": 110,
   "id": "f71b3423-cb53-4ae3-8cdc-d473ef9fb34d",
   "metadata": {},
   "outputs": [
    {
     "data": {
      "text/html": [
       "<div>\n",
       "<style scoped>\n",
       "    .dataframe tbody tr th:only-of-type {\n",
       "        vertical-align: middle;\n",
       "    }\n",
       "\n",
       "    .dataframe tbody tr th {\n",
       "        vertical-align: top;\n",
       "    }\n",
       "\n",
       "    .dataframe thead th {\n",
       "        text-align: right;\n",
       "    }\n",
       "</style>\n",
       "<table border=\"1\" class=\"dataframe\">\n",
       "  <thead>\n",
       "    <tr style=\"text-align: right;\">\n",
       "      <th></th>\n",
       "      <th>Quantity Ordered</th>\n",
       "      <th>Price Each</th>\n",
       "      <th>Total Price</th>\n",
       "    </tr>\n",
       "  </thead>\n",
       "  <tbody>\n",
       "    <tr>\n",
       "      <th>count</th>\n",
       "      <td>185686.000000</td>\n",
       "      <td>185686.000000</td>\n",
       "      <td>185686.000000</td>\n",
       "    </tr>\n",
       "    <tr>\n",
       "      <th>mean</th>\n",
       "      <td>1.124544</td>\n",
       "      <td>184.519255</td>\n",
       "      <td>185.611936</td>\n",
       "    </tr>\n",
       "    <tr>\n",
       "      <th>std</th>\n",
       "      <td>0.443069</td>\n",
       "      <td>332.843838</td>\n",
       "      <td>333.032118</td>\n",
       "    </tr>\n",
       "    <tr>\n",
       "      <th>min</th>\n",
       "      <td>1.000000</td>\n",
       "      <td>2.990000</td>\n",
       "      <td>2.990000</td>\n",
       "    </tr>\n",
       "    <tr>\n",
       "      <th>25%</th>\n",
       "      <td>1.000000</td>\n",
       "      <td>11.950000</td>\n",
       "      <td>11.950000</td>\n",
       "    </tr>\n",
       "    <tr>\n",
       "      <th>50%</th>\n",
       "      <td>1.000000</td>\n",
       "      <td>14.950000</td>\n",
       "      <td>14.950000</td>\n",
       "    </tr>\n",
       "    <tr>\n",
       "      <th>75%</th>\n",
       "      <td>1.000000</td>\n",
       "      <td>150.000000</td>\n",
       "      <td>150.000000</td>\n",
       "    </tr>\n",
       "    <tr>\n",
       "      <th>max</th>\n",
       "      <td>9.000000</td>\n",
       "      <td>1700.000000</td>\n",
       "      <td>3400.000000</td>\n",
       "    </tr>\n",
       "  </tbody>\n",
       "</table>\n",
       "</div>"
      ],
      "text/plain": [
       "       Quantity Ordered     Price Each    Total Price\n",
       "count     185686.000000  185686.000000  185686.000000\n",
       "mean           1.124544     184.519255     185.611936\n",
       "std            0.443069     332.843838     333.032118\n",
       "min            1.000000       2.990000       2.990000\n",
       "25%            1.000000      11.950000      11.950000\n",
       "50%            1.000000      14.950000      14.950000\n",
       "75%            1.000000     150.000000     150.000000\n",
       "max            9.000000    1700.000000    3400.000000"
      ]
     },
     "execution_count": 110,
     "metadata": {},
     "output_type": "execute_result"
    }
   ],
   "source": [
    "# 10. Five point summary:\n",
    "ecom3[['Quantity Ordered' , 'Price Each' , 'Total Price']].describe()"
   ]
  },
  {
   "cell_type": "code",
   "execution_count": null,
   "id": "db639b43-e526-4933-916e-13389cff8cbd",
   "metadata": {},
   "outputs": [],
   "source": []
  },
  {
   "cell_type": "markdown",
   "id": "8de66210-5fb4-4ada-80b7-530a70c968fc",
   "metadata": {},
   "source": [
    "## 6.2 Seperate the numerical and categorical features:"
   ]
  },
  {
   "cell_type": "code",
   "execution_count": 112,
   "id": "ecb964fa-f686-4130-b11c-7cfb9bf0064c",
   "metadata": {},
   "outputs": [],
   "source": [
    "categorical_features = ecom3[ecom3.dtypes[ecom3.dtypes == 'object'].index]\n",
    "mix = ecom3[ecom3.dtypes[ecom3.dtypes != 'object'].index]\n",
    "numerical_features = mix[mix.dtypes[mix.dtypes != 'datetime64[ns]'].index]"
   ]
  },
  {
   "cell_type": "code",
   "execution_count": 114,
   "id": "4a700987-8542-4401-939d-e7b203b2ca85",
   "metadata": {},
   "outputs": [
    {
     "data": {
      "text/plain": [
       "Order ID            object\n",
       "Product             object\n",
       "Purchase Address    object\n",
       "Day_name            object\n",
       "Month_name          object\n",
       "Street              object\n",
       "City                object\n",
       "CPT_code            object\n",
       "Category            object\n",
       "dtype: object"
      ]
     },
     "execution_count": 114,
     "metadata": {},
     "output_type": "execute_result"
    }
   ],
   "source": [
    "categorical_features.dtypes"
   ]
  },
  {
   "cell_type": "code",
   "execution_count": 116,
   "id": "8ce7af81-bf7c-4b4f-8f4e-454e86eaa195",
   "metadata": {},
   "outputs": [
    {
     "data": {
      "text/plain": [
       "Quantity Ordered      int32\n",
       "Price Each          float64\n",
       "Day                   int32\n",
       "Month                 int32\n",
       "Total Price         float64\n",
       "dtype: object"
      ]
     },
     "execution_count": 116,
     "metadata": {},
     "output_type": "execute_result"
    }
   ],
   "source": [
    "numerical_features.dtypes"
   ]
  },
  {
   "cell_type": "markdown",
   "id": "c84873a2-72fb-406e-8a33-07dd620a15fc",
   "metadata": {},
   "source": [
    "# 7. Graphical Analysis"
   ]
  },
  {
   "cell_type": "markdown",
   "id": "7bfd2de0-f67f-417a-a0c2-77fe767aeab2",
   "metadata": {},
   "source": [
    "## 7.1 Univariate analysis(numerical)"
   ]
  },
  {
   "cell_type": "markdown",
   "id": "659fd73c-d609-4f85-b896-52dc3295da1a",
   "metadata": {},
   "source": [
    "### 7.1.1 Histogram"
   ]
  },
  {
   "cell_type": "code",
   "execution_count": 121,
   "id": "71f65e25-bc41-44ca-bcd3-3b596803c0b1",
   "metadata": {},
   "outputs": [
    {
     "data": {
      "text/plain": [
       "<Axes: ylabel='Density'>"
      ]
     },
     "execution_count": 121,
     "metadata": {},
     "output_type": "execute_result"
    },
    {
     "data": {
      "image/png": "[encoded data removed]",
      "text/plain": [
       "<Figure size 640x480 with 1 Axes>"
      ]
     },
     "metadata": {},
     "output_type": "display_data"
    }
   ],
   "source": [
    "ecom3['Price Each'].plot.kde()"
   ]
  },
  {
   "cell_type": "code",
   "execution_count": 123,
   "id": "f40a9d2f-895c-4c6f-9aab-2acf073b1970",
   "metadata": {},
   "outputs": [
    {
     "data": {
      "text/plain": [
       "<Axes: ylabel='Density'>"
      ]
     },
     "execution_count": 123,
     "metadata": {},
     "output_type": "execute_result"
    },
    {
     "data": {
      "image/png": "[encoded data removed]",
      "text/plain": [
       "<Figure size 640x480 with 1 Axes>"
      ]
     },
     "metadata": {},
     "output_type": "display_data"
    }
   ],
   "source": [
    "ecom3['Total Price'].plot.kde()"
   ]
  },
  {
   "cell_type": "code",
   "execution_count": 125,
   "id": "82dd509c-fb6c-4c9b-afb9-78576cf8ee54",
   "metadata": {},
   "outputs": [
    {
     "data": {
      "image/png": "[encoded data removed]",
      "text/plain": [
       "<Figure size 640x480 with 1 Axes>"
      ]
     },
     "metadata": {},
     "output_type": "display_data"
    }
   ],
   "source": [
    "# Distribution of product Price with mean , median and mode.\n",
    "sns.histplot(ecom3 , x = 'Price Each' , bins = 15 , kde=True)\n",
    "\n",
    "# Calculate statistics\n",
    "mean = ecom3['Price Each'].mean()\n",
    "median = ecom3['Price Each'].median()\n",
    "mode = ecom3['Price Each'].mode()[0]  # mode() returns a Series\n",
    "\n",
    "# Add vertical lines\n",
    "plt.axvline(mean, color='blue', linestyle='--', label=f'Mean: {mean:.2f}')\n",
    "plt.axvline(median, color='green', linestyle='-', label=f'Median: {median:.2f}')\n",
    "plt.axvline(mode, color='red', linestyle=':', label=f'Mode: {mode:.2f}')\n",
    "\n",
    "# Add legend\n",
    "plt.legend()\n",
    "\n",
    "plt.show()"
   ]
  },
  {
   "cell_type": "code",
   "execution_count": 127,
   "id": "fc59197c-9251-42e5-9eff-2fe4b00f01cc",
   "metadata": {},
   "outputs": [
    {
     "data": {
      "text/plain": [
       "Price Each\n",
       "11.95      21859\n",
       "14.95      21610\n",
       "2.99       20612\n",
       "3.84       20558\n",
       "11.99      18849\n",
       "150.00     15525\n",
       "99.99      13298\n",
       "149.99      7498\n",
       "700.00      6840\n",
       "600.00      6834\n",
       "389.99      6225\n",
       "379.99      6174\n",
       "300.00      4794\n",
       "1700.00     4721\n",
       "999.99      4126\n",
       "109.99      4098\n",
       "400.00      2065\n",
       "Name: count, dtype: int64"
      ]
     },
     "execution_count": 127,
     "metadata": {},
     "output_type": "execute_result"
    }
   ],
   "source": [
    "ecom3['Price Each'].value_counts()"
   ]
  },
  {
   "cell_type": "code",
   "execution_count": 68,
   "id": "be3d6ce5-1d5e-4769-a1ac-4595d2a05d33",
   "metadata": {},
   "outputs": [
    {
     "data": {
      "text/plain": [
       "<Axes: xlabel='Total Price', ylabel='Count'>"
      ]
     },
     "execution_count": 68,
     "metadata": {},
     "output_type": "execute_result"
    },
    {
     "data": {
      "image/png": "[encoded data removed]",
      "text/plain": [
       "<Figure size 640x480 with 1 Axes>"
      ]
     },
     "metadata": {},
     "output_type": "display_data"
    }
   ],
   "source": [
    "# Histogram of Order Price with KDE.\n",
    "sns.histplot(ecom3 , x = 'Total Price' , bins = 15 , kde=True)\n"
   ]
  },
  {
   "cell_type": "markdown",
   "id": "5f78e3af-bf71-46e6-9531-e430e14a1baa",
   "metadata": {},
   "source": [
    "### 7.1.2 Boxplot (outlier detection)\n"
   ]
  },
  {
   "cell_type": "code",
   "execution_count": 129,
   "id": "4f5f4987-302e-4210-9ac8-6766e64d3f74",
   "metadata": {},
   "outputs": [
    {
     "data": {
      "text/plain": [
       "<Axes: ylabel='Price Each'>"
      ]
     },
     "execution_count": 129,
     "metadata": {},
     "output_type": "execute_result"
    },
    {
     "data": {
      "image/png": "[encoded data removed]",
      "text/plain": [
       "<Figure size 640x480 with 1 Axes>"
      ]
     },
     "metadata": {},
     "output_type": "display_data"
    }
   ],
   "source": [
    "sns.boxplot(ecom3['Price Each'])"
   ]
  },
  {
   "cell_type": "code",
   "execution_count": 135,
   "id": "1ed5287c-7560-4d74-80b7-4ae4131f6c0f",
   "metadata": {},
   "outputs": [],
   "source": [
    "# Remove the Outliers.\n",
    "Q1 = ecom3['Price Each'].quantile(0.25)\n",
    "Q3 = ecom3['Price Each'].quantile(0.75)\n",
    "IQR = Q3 - Q1\n",
    "\n",
    "# Define bounds\n",
    "lower_bound = Q1 - 1.5 * IQR\n",
    "upper_bound = Q3 + 1.5 * IQR\n",
    "\n",
    "# Filter the DataFrame\n",
    "ecom4 = ecom3[(ecom3['Price Each'] >= lower_bound) & (ecom3['Price Each'] <= upper_bound)]\n",
    "\n",
    "\n"
   ]
  },
  {
   "cell_type": "code",
   "execution_count": 137,
   "id": "dd4676cb-853c-45cc-b991-7891ebfd8c3c",
   "metadata": {},
   "outputs": [
    {
     "data": {
      "text/plain": [
       "<Axes: ylabel='Total Price'>"
      ]
     },
     "execution_count": 137,
     "metadata": {},
     "output_type": "execute_result"
    },
    {
     "data": {
      "image/png": "[encoded data removed]",
      "text/plain": [
       "<Figure size 640x480 with 1 Axes>"
      ]
     },
     "metadata": {},
     "output_type": "display_data"
    }
   ],
   "source": [
    "sns.boxplot(ecom4['Total Price'])"
   ]
  },
  {
   "cell_type": "code",
   "execution_count": 139,
   "id": "ec189849-f7c2-4da7-9049-e8a912a6e557",
   "metadata": {},
   "outputs": [
    {
     "data": {
      "text/plain": [
       "<Axes: xlabel='Total Price', ylabel='Count'>"
      ]
     },
     "execution_count": 139,
     "metadata": {},
     "output_type": "execute_result"
    },
    {
     "data": {
      "image/png": "[encoded data removed]",
      "text/plain": [
       "<Figure size 640x480 with 1 Axes>"
      ]
     },
     "metadata": {},
     "output_type": "display_data"
    }
   ],
   "source": [
    "# Want to show the distribution after removing the outliers\n",
    "sns.histplot(ecom4 , x = 'Total Price' , bins = 15 , kde=True)"
   ]
  },
  {
   "cell_type": "markdown",
   "id": "44bbb178-27de-419e-8560-a4149459ae50",
   "metadata": {},
   "source": [
    "### 7.1.3 Mean , Median , Mode"
   ]
  },
  {
   "cell_type": "code",
   "execution_count": 141,
   "id": "ff4fda48-bae5-47b6-86fc-b3ebc849b0ea",
   "metadata": {},
   "outputs": [
    {
     "data": {
      "image/png": "[encoded data removed]",
      "text/plain": [
       "<Figure size 640x480 with 1 Axes>"
      ]
     },
     "metadata": {},
     "output_type": "display_data"
    }
   ],
   "source": [
    "# Distribution of Product Price after removing Outliers.\n",
    "# Create the histogram\n",
    "ax = sns.histplot(ecom4, x='Price Each', bins=15, kde=True)\n",
    "\n",
    "# Calculate statistics\n",
    "mean = ecom4['Price Each'].mean()\n",
    "median = ecom4['Price Each'].median()\n",
    "mode = ecom4['Price Each'].mode()[0]  # mode() returns a Series\n",
    "\n",
    "# Add vertical lines\n",
    "plt.axvline(mean, color='blue', linestyle='--', label=f'Mean: {mean:.2f}')\n",
    "plt.axvline(median, color='green', linestyle='-', label=f'Median: {median:.2f}')\n",
    "plt.axvline(mode, color='red', linestyle=':', label=f'Mode: {mode:.2f}')\n",
    "\n",
    "# Add legend\n",
    "plt.legend()\n",
    "\n",
    "plt.show()\n",
    "\n"
   ]
  },
  {
   "cell_type": "code",
   "execution_count": 143,
   "id": "bae2452d-894b-475a-afc9-9c3ca9715b5b",
   "metadata": {},
   "outputs": [
    {
     "name": "stdout",
     "output_type": "stream",
     "text": [
      "Standard deviation before= 332.8438383899937\n",
      "Standard deviation after= 71.1309982733632\n"
     ]
    }
   ],
   "source": [
    "# Standard Deviation: (outlier treatment)\n",
    "print(\"Standard deviation before=\", ecom3['Price Each'].std())\n",
    "print(\"Standard deviation after=\", ecom4['Price Each'].std())"
   ]
  },
  {
   "cell_type": "markdown",
   "id": "41e041f7-8a67-4ff0-a32b-dae0adfa24d0",
   "metadata": {},
   "source": [
    "# 7.2 Univariate analysis (categorical)"
   ]
  },
  {
   "cell_type": "code",
   "execution_count": 146,
   "id": "a76b97de-b2b0-456e-a830-a5d193700a02",
   "metadata": {},
   "outputs": [
    {
     "data": {
      "text/plain": [
       "Index(['Order ID', 'Product', 'Purchase Address', 'Day_name', 'Month_name',\n",
       "       'Street', 'City', 'CPT_code', 'Category'],\n",
       "      dtype='object')"
      ]
     },
     "execution_count": 146,
     "metadata": {},
     "output_type": "execute_result"
    }
   ],
   "source": [
    "categorical_features.columns"
   ]
  },
  {
   "cell_type": "markdown",
   "id": "3adf689d-2d1b-4029-b6fa-b568e990cee0",
   "metadata": {},
   "source": [
    "# 7.2.1. Barplot"
   ]
  },
  {
   "cell_type": "code",
   "execution_count": 149,
   "id": "c0879693-10b8-4bc0-ac92-93ff19e57493",
   "metadata": {},
   "outputs": [
    {
     "data": {
      "text/plain": [
       "<Axes: ylabel='Product'>"
      ]
     },
     "execution_count": 149,
     "metadata": {},
     "output_type": "execute_result"
    },
    {
     "data": {
      "image/png": "[encoded data removed]",
      "text/plain": [
       "<Figure size 640x480 with 1 Axes>"
      ]
     },
     "metadata": {},
     "output_type": "display_data"
    }
   ],
   "source": [
    "ecom3['Product'].value_counts().plot.barh(color = 'green')"
   ]
  },
  {
   "cell_type": "code",
   "execution_count": 151,
   "id": "496f526a-a1b6-4e66-a3f9-8a77eb316b31",
   "metadata": {},
   "outputs": [
    {
     "data": {
      "text/plain": [
       "Product\n",
       "USB-C Charging Cable          21859\n",
       "Lightning Charging Cable      21610\n",
       "AAA Batteries (4-pack)        20612\n",
       "AA Batteries (4-pack)         20558\n",
       "Wired Headphones              18849\n",
       "Apple Airpods Headphones      15525\n",
       "Bose SoundSport Headphones    13298\n",
       "27in FHD Monitor               7498\n",
       "iPhone                         6840\n",
       "27in 4K Gaming Monitor         6225\n",
       "34in Ultrawide Monitor         6174\n",
       "Google Phone                   5522\n",
       "Flatscreen TV                  4794\n",
       "Macbook Pro Laptop             4721\n",
       "ThinkPad Laptop                4126\n",
       "20in Monitor                   4098\n",
       "Vareebadd Phone                2065\n",
       "LG Washing Machine              666\n",
       "LG Dryer                        646\n",
       "Name: count, dtype: int64"
      ]
     },
     "execution_count": 151,
     "metadata": {},
     "output_type": "execute_result"
    }
   ],
   "source": [
    "# Count of Product.\n",
    "ecom3['Product'].value_counts()"
   ]
  },
  {
   "cell_type": "code",
   "execution_count": 155,
   "id": "e5758fe9-4fbe-4d43-b1bf-014734820aff",
   "metadata": {},
   "outputs": [
    {
     "data": {
      "image/png": "[encoded data removed]",
      "text/plain": [
       "<Figure size 640x480 with 1 Axes>"
      ]
     },
     "metadata": {},
     "output_type": "display_data"
    }
   ],
   "source": [
    "# Category wise Plot for count of Product category.\n",
    "ecom3['Category'].value_counts().plot.bar(color = 'green')\n",
    "plt.xticks(rotation = 35)\n",
    "plt.show()"
   ]
  },
  {
   "cell_type": "code",
   "execution_count": 85,
   "id": "5370adad-2039-4877-b4f6-8a7016475b17",
   "metadata": {},
   "outputs": [
    {
     "data": {
      "text/plain": [
       "Category\n",
       "Headphones         47672\n",
       "Charging Cable     43469\n",
       "Batteries          41170\n",
       "Monitor            23995\n",
       "Phone              14427\n",
       "Laptop              8847\n",
       "TV                  4794\n",
       "Washing Machine      666\n",
       "Dryer                646\n",
       "Name: count, dtype: int64"
      ]
     },
     "execution_count": 85,
     "metadata": {},
     "output_type": "execute_result"
    }
   ],
   "source": [
    "# product Category Count.\n",
    "ecom3['Category'].value_counts()"
   ]
  },
  {
   "cell_type": "code",
   "execution_count": 86,
   "id": "ccc18eda-6883-4ce6-8b62-c23fc17557df",
   "metadata": {},
   "outputs": [
    {
     "data": {
      "text/plain": [
       "<Axes: ylabel='Month_name'>"
      ]
     },
     "execution_count": 86,
     "metadata": {},
     "output_type": "execute_result"
    },
    {
     "data": {
      "image/png": "[encoded data removed]",
      "text/plain": [
       "<Figure size 640x480 with 1 Axes>"
      ]
     },
     "metadata": {},
     "output_type": "display_data"
    }
   ],
   "source": [
    "# Month wise Product count.\n",
    "ecom3['Month_name'].value_counts().plot.barh(color = 'orange')"
   ]
  },
  {
   "cell_type": "code",
   "execution_count": 157,
   "id": "249daf97-727a-447d-9e8b-8232092f08e3",
   "metadata": {},
   "outputs": [
    {
     "data": {
      "text/plain": [
       "Month_name\n",
       "December     24944\n",
       "October      20249\n",
       "April        18257\n",
       "November     17544\n",
       "May          16552\n",
       "March        15128\n",
       "July         14275\n",
       "June         13535\n",
       "February     11957\n",
       "August       11943\n",
       "September    11603\n",
       "January       9699\n",
       "Name: count, dtype: int64"
      ]
     },
     "execution_count": 157,
     "metadata": {},
     "output_type": "execute_result"
    }
   ],
   "source": [
    "# month wise Product count.\n",
    "ecom3['Month_name'].value_counts()"
   ]
  },
  {
   "cell_type": "markdown",
   "id": "427ac1a5-5de2-4af1-a1fb-5d6930987f4f",
   "metadata": {},
   "source": [
    "# 7.2.2. Pie chart "
   ]
  },
  {
   "cell_type": "code",
   "execution_count": 160,
   "id": "dc21464a-2009-43ef-9fe8-bc7207b17001",
   "metadata": {},
   "outputs": [
    {
     "data": {
      "image/png": "[encoded data removed]",
      "text/plain": [
       "<Figure size 640x480 with 1 Axes>"
      ]
     },
     "metadata": {},
     "output_type": "display_data"
    }
   ],
   "source": [
    "# City wise Product count Percentage.\n",
    "city_wise_count = ecom3['City'].value_counts()\n",
    "city_names = ecom3['City'].value_counts().index\n",
    "\n",
    "# draw the chart:\n",
    "plt.pie(city_wise_count, labels=city_names, autopct='%1.1f%%', startangle=140 )\n",
    "plt.show()"
   ]
  },
  {
   "cell_type": "code",
   "execution_count": 162,
   "id": "8caaada5-2c09-485c-b8df-39ce29faa0b8",
   "metadata": {},
   "outputs": [
    {
     "data": {
      "text/plain": [
       "City\n",
       "San Francisco    44662\n",
       "Los Angeles      29564\n",
       "New York City    24847\n",
       "Boston           19901\n",
       "Atlanta          14863\n",
       "Dallas           14797\n",
       "Seattle          14713\n",
       "Portland         12449\n",
       "Austin            9890\n",
       "Name: count, dtype: int64"
      ]
     },
     "execution_count": 162,
     "metadata": {},
     "output_type": "execute_result"
    }
   ],
   "source": [
    "# city wise Orders:\n",
    "ecom3['City'].value_counts()"
   ]
  },
  {
   "cell_type": "code",
   "execution_count": null,
   "id": "de1a9d04-8bd9-477b-9e27-6a3e9a6cc358",
   "metadata": {},
   "outputs": [],
   "source": []
  },
  {
   "cell_type": "markdown",
   "id": "76c14504-b116-4135-9c64-8670c12c3259",
   "metadata": {},
   "source": [
    "# 8. Bivariate analysis (categorical vs numerical)"
   ]
  },
  {
   "cell_type": "code",
   "execution_count": 164,
   "id": "9f0163df-587d-43b8-9375-422a984a2eea",
   "metadata": {},
   "outputs": [
    {
     "data": {
      "text/plain": [
       "Index(['Order ID', 'Product', 'Purchase Address', 'Day_name', 'Month_name',\n",
       "       'Street', 'City', 'CPT_code', 'Category'],\n",
       "      dtype='object')"
      ]
     },
     "execution_count": 164,
     "metadata": {},
     "output_type": "execute_result"
    }
   ],
   "source": [
    "categorical_features.columns"
   ]
  },
  {
   "cell_type": "code",
   "execution_count": 166,
   "id": "8cb728ad-ae80-4879-84b2-a5530306d5bd",
   "metadata": {},
   "outputs": [
    {
     "data": {
      "text/plain": [
       "Index(['Quantity Ordered', 'Price Each', 'Day', 'Month', 'Total Price'], dtype='object')"
      ]
     },
     "execution_count": 166,
     "metadata": {},
     "output_type": "execute_result"
    }
   ],
   "source": [
    "numerical_features.columns"
   ]
  },
  {
   "cell_type": "markdown",
   "id": "52376d58-b383-486a-b6d4-6ce36578c774",
   "metadata": {},
   "source": [
    "# 8.1. Bar plot"
   ]
  },
  {
   "cell_type": "code",
   "execution_count": 169,
   "id": "5d970bdc-b447-4d06-b4c3-91c42571413b",
   "metadata": {},
   "outputs": [
    {
     "data": {
      "image/png": "[encoded data removed]",
      "text/plain": [
       "<Figure size 800x500 with 1 Axes>"
      ]
     },
     "metadata": {},
     "output_type": "display_data"
    }
   ],
   "source": [
    "# manth wise revenue:\n",
    "import matplotlib.ticker as ticker\n",
    "plt.figure(figsize=(8, 5))\n",
    "ax = sns.barplot( x = 'Month_name' , y= 'Total Price' , data =ecom3  , palette='Set2' , estimator=sum )\n",
    "\n",
    "# Format y-axis to show full number\n",
    "ax.yaxis.set_major_formatter(ticker.FuncFormatter(lambda x, _: f'{int(x):,}'))\n",
    "\n",
    "plt.title(\"Month-wise Revenue\")\n",
    "plt.ylabel(\"Total Price\")\n",
    "plt.xlabel(\"Month\")\n",
    "plt.tight_layout()\n",
    "plt.xticks(rotation=25)\n",
    "\n",
    "plt.show()"
   ]
  },
  {
   "cell_type": "code",
   "execution_count": 171,
   "id": "a740c02c-5d7f-478b-bead-2e0585f0ad01",
   "metadata": {},
   "outputs": [
    {
     "data": {
      "text/plain": [
       "Month_name\n",
       "April        3389217.98\n",
       "August       2241083.37\n",
       "December     4608295.70\n",
       "February     2200078.08\n",
       "January      1821413.16\n",
       "July         2646461.32\n",
       "June         2576280.15\n",
       "March        2804973.35\n",
       "May          3150616.23\n",
       "November     3197875.05\n",
       "October      3734777.86\n",
       "September    2094465.69\n",
       "Name: Total Price, dtype: float64"
      ]
     },
     "execution_count": 171,
     "metadata": {},
     "output_type": "execute_result"
    }
   ],
   "source": [
    "ecom3.groupby(['Month_name'])['Total Price'].sum()"
   ]
  },
  {
   "cell_type": "code",
   "execution_count": 175,
   "id": "a3375985-d1a3-489e-b092-90f508037329",
   "metadata": {},
   "outputs": [
    {
     "data": {
      "image/png": "[encoded data removed]",
      "text/plain": [
       "<Figure size 800x500 with 1 Axes>"
      ]
     },
     "metadata": {},
     "output_type": "display_data"
    }
   ],
   "source": [
    "# city wise revenue:\n",
    "plt.figure(figsize=(8, 5))\n",
    "ax = sns.barplot( x = 'City' , y= 'Total Price' , data =ecom3  , palette='Set3' , estimator=sum )\n",
    "\n",
    "# Format y-axis to show full number\n",
    "ax.yaxis.set_major_formatter(ticker.FuncFormatter(lambda x, _: f'{int(x):,}'))\n",
    "\n",
    "plt.title(\"city-wise Revenue\")\n",
    "plt.ylabel(\"Total Price\")\n",
    "plt.xlabel(\"City\")\n",
    "plt.tight_layout()\n",
    "plt.xticks(rotation=25)\n",
    "\n",
    "plt.show()"
   ]
  },
  {
   "cell_type": "code",
   "execution_count": 177,
   "id": "b980bc17-681a-42d0-9f03-685962d3de36",
   "metadata": {},
   "outputs": [
    {
     "data": {
      "text/plain": [
       "Product\n",
       "20in Monitor                   4126\n",
       "27in 4K Gaming Monitor         6239\n",
       "27in FHD Monitor               7541\n",
       "34in Ultrawide Monitor         6192\n",
       "AA Batteries (4-pack)         27615\n",
       "AAA Batteries (4-pack)        30986\n",
       "Apple Airpods Headphones      15637\n",
       "Bose SoundSport Headphones    13430\n",
       "Flatscreen TV                  4813\n",
       "Google Phone                   5529\n",
       "LG Dryer                        646\n",
       "LG Washing Machine              666\n",
       "Lightning Charging Cable      23169\n",
       "Macbook Pro Laptop             4725\n",
       "ThinkPad Laptop                4128\n",
       "USB-C Charging Cable          23931\n",
       "Vareebadd Phone                2068\n",
       "Wired Headphones              20524\n",
       "iPhone                         6847\n",
       "Name: Quantity Ordered, dtype: int32"
      ]
     },
     "execution_count": 177,
     "metadata": {},
     "output_type": "execute_result"
    }
   ],
   "source": [
    "# Total number of product Orders\n",
    "ecom3.groupby(['Product'])['Quantity Ordered'].sum()"
   ]
  },
  {
   "cell_type": "code",
   "execution_count": 179,
   "id": "5d6a55f3-9461-42ba-aa2a-00de1e9e1cd3",
   "metadata": {},
   "outputs": [
    {
     "data": {
      "text/plain": [
       "Category\n",
       "Headphones         47672\n",
       "Charging Cable     43469\n",
       "Batteries          41170\n",
       "Monitor            23995\n",
       "Phone              14427\n",
       "Laptop              8847\n",
       "TV                  4794\n",
       "Washing Machine      666\n",
       "Dryer                646\n",
       "Name: count, dtype: int64"
      ]
     },
     "execution_count": 179,
     "metadata": {},
     "output_type": "execute_result"
    }
   ],
   "source": [
    "# category wise no. of orders:\n",
    "ecom3['Category'].value_counts()"
   ]
  },
  {
   "cell_type": "code",
   "execution_count": 181,
   "id": "9c6beb32-d335-4582-b2a4-e5059337ae27",
   "metadata": {},
   "outputs": [
    {
     "data": {
      "text/plain": [
       "Category\n",
       "Headphones         47672\n",
       "Charging Cable     43469\n",
       "Batteries          41170\n",
       "Monitor            23995\n",
       "Phone              14427\n",
       "Laptop              8847\n",
       "TV                  4794\n",
       "Washing Machine      666\n",
       "Dryer                646\n",
       "Name: count, dtype: int64"
      ]
     },
     "execution_count": 181,
     "metadata": {},
     "output_type": "execute_result"
    }
   ],
   "source": [
    "# city wise no. of orders:\n",
    "ecom3['Category'].value_counts()"
   ]
  },
  {
   "cell_type": "code",
   "execution_count": 183,
   "id": "53d85861-f064-461b-993a-8827bc0d20bd",
   "metadata": {},
   "outputs": [
    {
     "data": {
      "text/plain": [
       "City\n",
       "Atlanta          2794199.07\n",
       "Austin           1818044.33\n",
       "Boston           3658627.65\n",
       "Dallas           2765373.96\n",
       "Los Angeles      5448304.28\n",
       "New York City    4661867.14\n",
       "Portland         2319331.94\n",
       "San Francisco    8254743.55\n",
       "Seattle          2745046.02\n",
       "Name: Total Price, dtype: float64"
      ]
     },
     "execution_count": 183,
     "metadata": {},
     "output_type": "execute_result"
    }
   ],
   "source": [
    "ecom3.groupby(['City'])['Total Price'].sum()"
   ]
  },
  {
   "cell_type": "code",
   "execution_count": 185,
   "id": "43adf586-b9fc-4c44-8865-a2cfcd4f452a",
   "metadata": {},
   "outputs": [
    {
     "data": {
      "image/png": "[encoded data removed]",
      "text/plain": [
       "<Figure size 600x400 with 1 Axes>"
      ]
     },
     "metadata": {},
     "output_type": "display_data"
    }
   ],
   "source": [
    "# Category wise revenue:\n",
    "import matplotlib.ticker as ticker\n",
    "plt.figure(figsize=(6, 4))\n",
    "ax = sns.barplot( x = 'Category' , y= 'Total Price' , data =ecom3  , palette='Set2' , estimator=sum )\n",
    "\n",
    "# Format y-axis to show full number\n",
    "ax.yaxis.set_major_formatter(ticker.FuncFormatter(lambda x, _: f'{int(x):,}'))\n",
    "\n",
    "plt.title(\"category-wise Revenue\")\n",
    "plt.ylabel(\"Total Price\")\n",
    "plt.xlabel(\"Month\")\n",
    "plt.tight_layout()\n",
    "plt.xticks(rotation=35)\n",
    "\n",
    "plt.show()"
   ]
  },
  {
   "cell_type": "code",
   "execution_count": null,
   "id": "ca1d4206-1aef-424a-a516-76e474be06d9",
   "metadata": {},
   "outputs": [],
   "source": [
    "# Category Wise Revenue.\n",
    "ecom3.groupby(['Category'])['Total Price'].sum()"
   ]
  },
  {
   "cell_type": "code",
   "execution_count": 187,
   "id": "56ad7a42-115a-48b8-a8cf-2264710dbd73",
   "metadata": {},
   "outputs": [
    {
     "data": {
      "text/html": [
       "<div>\n",
       "<style scoped>\n",
       "    .dataframe tbody tr th:only-of-type {\n",
       "        vertical-align: middle;\n",
       "    }\n",
       "\n",
       "    .dataframe tbody tr th {\n",
       "        vertical-align: top;\n",
       "    }\n",
       "\n",
       "    .dataframe thead th {\n",
       "        text-align: right;\n",
       "    }\n",
       "</style>\n",
       "<table border=\"1\" class=\"dataframe\">\n",
       "  <thead>\n",
       "    <tr style=\"text-align: right;\">\n",
       "      <th></th>\n",
       "      <th>sum</th>\n",
       "      <th>median</th>\n",
       "      <th>mean</th>\n",
       "      <th>std</th>\n",
       "      <th>min</th>\n",
       "      <th>max</th>\n",
       "    </tr>\n",
       "    <tr>\n",
       "      <th>Category</th>\n",
       "      <th></th>\n",
       "      <th></th>\n",
       "      <th></th>\n",
       "      <th></th>\n",
       "      <th></th>\n",
       "      <th></th>\n",
       "    </tr>\n",
       "  </thead>\n",
       "  <tbody>\n",
       "    <tr>\n",
       "      <th>Batteries</th>\n",
       "      <td>198689.74</td>\n",
       "      <td>3.84</td>\n",
       "      <td>4.826081</td>\n",
       "      <td>2.620210</td>\n",
       "      <td>2.99</td>\n",
       "      <td>26.91</td>\n",
       "    </tr>\n",
       "    <tr>\n",
       "      <th>Charging Cable</th>\n",
       "      <td>632352.00</td>\n",
       "      <td>14.95</td>\n",
       "      <td>14.547195</td>\n",
       "      <td>4.284343</td>\n",
       "      <td>11.95</td>\n",
       "      <td>71.70</td>\n",
       "    </tr>\n",
       "    <tr>\n",
       "      <th>Dryer</th>\n",
       "      <td>387600.00</td>\n",
       "      <td>600.00</td>\n",
       "      <td>600.000000</td>\n",
       "      <td>0.000000</td>\n",
       "      <td>600.00</td>\n",
       "      <td>600.00</td>\n",
       "    </tr>\n",
       "    <tr>\n",
       "      <th>Headphones</th>\n",
       "      <td>3934498.46</td>\n",
       "      <td>99.99</td>\n",
       "      <td>82.532691</td>\n",
       "      <td>60.176281</td>\n",
       "      <td>11.99</td>\n",
       "      <td>450.00</td>\n",
       "    </tr>\n",
       "    <tr>\n",
       "      <th>Laptop</th>\n",
       "      <td>12160458.72</td>\n",
       "      <td>1700.00</td>\n",
       "      <td>1374.529074</td>\n",
       "      <td>351.892158</td>\n",
       "      <td>999.99</td>\n",
       "      <td>3400.00</td>\n",
       "    </tr>\n",
       "    <tr>\n",
       "      <th>Monitor</th>\n",
       "      <td>6370939.02</td>\n",
       "      <td>379.99</td>\n",
       "      <td>265.511107</td>\n",
       "      <td>126.352025</td>\n",
       "      <td>109.99</td>\n",
       "      <td>779.98</td>\n",
       "    </tr>\n",
       "    <tr>\n",
       "      <th>Phone</th>\n",
       "      <td>8937500.00</td>\n",
       "      <td>600.00</td>\n",
       "      <td>619.498163</td>\n",
       "      <td>102.797811</td>\n",
       "      <td>400.00</td>\n",
       "      <td>1400.00</td>\n",
       "    </tr>\n",
       "    <tr>\n",
       "      <th>TV</th>\n",
       "      <td>1443900.00</td>\n",
       "      <td>300.00</td>\n",
       "      <td>301.188986</td>\n",
       "      <td>18.850897</td>\n",
       "      <td>300.00</td>\n",
       "      <td>600.00</td>\n",
       "    </tr>\n",
       "    <tr>\n",
       "      <th>Washing Machine</th>\n",
       "      <td>399600.00</td>\n",
       "      <td>600.00</td>\n",
       "      <td>600.000000</td>\n",
       "      <td>0.000000</td>\n",
       "      <td>600.00</td>\n",
       "      <td>600.00</td>\n",
       "    </tr>\n",
       "  </tbody>\n",
       "</table>\n",
       "</div>"
      ],
      "text/plain": [
       "                         sum   median         mean         std     min  \\\n",
       "Category                                                                 \n",
       "Batteries          198689.74     3.84     4.826081    2.620210    2.99   \n",
       "Charging Cable     632352.00    14.95    14.547195    4.284343   11.95   \n",
       "Dryer              387600.00   600.00   600.000000    0.000000  600.00   \n",
       "Headphones        3934498.46    99.99    82.532691   60.176281   11.99   \n",
       "Laptop           12160458.72  1700.00  1374.529074  351.892158  999.99   \n",
       "Monitor           6370939.02   379.99   265.511107  126.352025  109.99   \n",
       "Phone             8937500.00   600.00   619.498163  102.797811  400.00   \n",
       "TV                1443900.00   300.00   301.188986   18.850897  300.00   \n",
       "Washing Machine    399600.00   600.00   600.000000    0.000000  600.00   \n",
       "\n",
       "                     max  \n",
       "Category                  \n",
       "Batteries          26.91  \n",
       "Charging Cable     71.70  \n",
       "Dryer             600.00  \n",
       "Headphones        450.00  \n",
       "Laptop           3400.00  \n",
       "Monitor           779.98  \n",
       "Phone            1400.00  \n",
       "TV                600.00  \n",
       "Washing Machine   600.00  "
      ]
     },
     "execution_count": 187,
     "metadata": {},
     "output_type": "execute_result"
    }
   ],
   "source": [
    "# Category wise Revenue Stats.\n",
    "ecom3.groupby(['Category'])['Total Price'].agg(['sum' , 'median','mean' , 'std' , 'min' , 'max'])"
   ]
  },
  {
   "cell_type": "code",
   "execution_count": 189,
   "id": "02a8ab18-fcb4-462a-a76a-80bc86e30b4e",
   "metadata": {},
   "outputs": [
    {
     "data": {
      "text/html": [
       "<div>\n",
       "<style scoped>\n",
       "    .dataframe tbody tr th:only-of-type {\n",
       "        vertical-align: middle;\n",
       "    }\n",
       "\n",
       "    .dataframe tbody tr th {\n",
       "        vertical-align: top;\n",
       "    }\n",
       "\n",
       "    .dataframe thead th {\n",
       "        text-align: right;\n",
       "    }\n",
       "</style>\n",
       "<table border=\"1\" class=\"dataframe\">\n",
       "  <thead>\n",
       "    <tr style=\"text-align: right;\">\n",
       "      <th></th>\n",
       "      <th>sum</th>\n",
       "      <th>median</th>\n",
       "      <th>mean</th>\n",
       "      <th>std</th>\n",
       "      <th>min</th>\n",
       "      <th>max</th>\n",
       "    </tr>\n",
       "    <tr>\n",
       "      <th>City</th>\n",
       "      <th></th>\n",
       "      <th></th>\n",
       "      <th></th>\n",
       "      <th></th>\n",
       "      <th></th>\n",
       "      <th></th>\n",
       "    </tr>\n",
       "  </thead>\n",
       "  <tbody>\n",
       "    <tr>\n",
       "      <th>Atlanta</th>\n",
       "      <td>2794199.07</td>\n",
       "      <td>14.95</td>\n",
       "      <td>187.996977</td>\n",
       "      <td>334.876275</td>\n",
       "      <td>2.99</td>\n",
       "      <td>1700.0</td>\n",
       "    </tr>\n",
       "    <tr>\n",
       "      <th>Austin</th>\n",
       "      <td>1818044.33</td>\n",
       "      <td>14.95</td>\n",
       "      <td>183.826525</td>\n",
       "      <td>331.628368</td>\n",
       "      <td>2.99</td>\n",
       "      <td>1700.0</td>\n",
       "    </tr>\n",
       "    <tr>\n",
       "      <th>Boston</th>\n",
       "      <td>3658627.65</td>\n",
       "      <td>14.95</td>\n",
       "      <td>183.841397</td>\n",
       "      <td>329.352885</td>\n",
       "      <td>2.99</td>\n",
       "      <td>3400.0</td>\n",
       "    </tr>\n",
       "    <tr>\n",
       "      <th>Dallas</th>\n",
       "      <td>2765373.96</td>\n",
       "      <td>14.95</td>\n",
       "      <td>186.887474</td>\n",
       "      <td>334.446402</td>\n",
       "      <td>2.99</td>\n",
       "      <td>1700.0</td>\n",
       "    </tr>\n",
       "    <tr>\n",
       "      <th>Los Angeles</th>\n",
       "      <td>5448304.28</td>\n",
       "      <td>14.95</td>\n",
       "      <td>184.288468</td>\n",
       "      <td>332.243107</td>\n",
       "      <td>2.99</td>\n",
       "      <td>1700.0</td>\n",
       "    </tr>\n",
       "    <tr>\n",
       "      <th>New York City</th>\n",
       "      <td>4661867.14</td>\n",
       "      <td>14.95</td>\n",
       "      <td>187.622938</td>\n",
       "      <td>336.359270</td>\n",
       "      <td>2.99</td>\n",
       "      <td>3400.0</td>\n",
       "    </tr>\n",
       "    <tr>\n",
       "      <th>Portland</th>\n",
       "      <td>2319331.94</td>\n",
       "      <td>14.95</td>\n",
       "      <td>186.306686</td>\n",
       "      <td>337.153437</td>\n",
       "      <td>2.99</td>\n",
       "      <td>1700.0</td>\n",
       "    </tr>\n",
       "    <tr>\n",
       "      <th>San Francisco</th>\n",
       "      <td>8254743.55</td>\n",
       "      <td>14.95</td>\n",
       "      <td>184.827002</td>\n",
       "      <td>332.675745</td>\n",
       "      <td>2.99</td>\n",
       "      <td>3400.0</td>\n",
       "    </tr>\n",
       "    <tr>\n",
       "      <th>Seattle</th>\n",
       "      <td>2745046.02</td>\n",
       "      <td>14.95</td>\n",
       "      <td>186.572828</td>\n",
       "      <td>329.165595</td>\n",
       "      <td>2.99</td>\n",
       "      <td>1700.0</td>\n",
       "    </tr>\n",
       "  </tbody>\n",
       "</table>\n",
       "</div>"
      ],
      "text/plain": [
       "                      sum  median        mean         std   min     max\n",
       "City                                                                   \n",
       "Atlanta        2794199.07   14.95  187.996977  334.876275  2.99  1700.0\n",
       "Austin         1818044.33   14.95  183.826525  331.628368  2.99  1700.0\n",
       "Boston         3658627.65   14.95  183.841397  329.352885  2.99  3400.0\n",
       "Dallas         2765373.96   14.95  186.887474  334.446402  2.99  1700.0\n",
       "Los Angeles    5448304.28   14.95  184.288468  332.243107  2.99  1700.0\n",
       "New York City  4661867.14   14.95  187.622938  336.359270  2.99  3400.0\n",
       "Portland       2319331.94   14.95  186.306686  337.153437  2.99  1700.0\n",
       "San Francisco  8254743.55   14.95  184.827002  332.675745  2.99  3400.0\n",
       "Seattle        2745046.02   14.95  186.572828  329.165595  2.99  1700.0"
      ]
     },
     "execution_count": 189,
     "metadata": {},
     "output_type": "execute_result"
    }
   ],
   "source": [
    "# City wise revenue stats.\n",
    "ecom3.groupby(['City'])['Total Price'].agg(['sum' ,'median', 'mean' , 'std' , 'min' , 'max'])"
   ]
  },
  {
   "cell_type": "code",
   "execution_count": 186,
   "id": "ae7231de-7038-4a21-a33d-0f225e32af71",
   "metadata": {},
   "outputs": [
    {
     "data": {
      "text/html": [
       "<div>\n",
       "<style scoped>\n",
       "    .dataframe tbody tr th:only-of-type {\n",
       "        vertical-align: middle;\n",
       "    }\n",
       "\n",
       "    .dataframe tbody tr th {\n",
       "        vertical-align: top;\n",
       "    }\n",
       "\n",
       "    .dataframe thead th {\n",
       "        text-align: right;\n",
       "    }\n",
       "</style>\n",
       "<table border=\"1\" class=\"dataframe\">\n",
       "  <thead>\n",
       "    <tr style=\"text-align: right;\">\n",
       "      <th></th>\n",
       "      <th>sum</th>\n",
       "      <th>median</th>\n",
       "      <th>mean</th>\n",
       "      <th>std</th>\n",
       "      <th>min</th>\n",
       "      <th>max</th>\n",
       "    </tr>\n",
       "    <tr>\n",
       "      <th>Month_name</th>\n",
       "      <th></th>\n",
       "      <th></th>\n",
       "      <th></th>\n",
       "      <th></th>\n",
       "      <th></th>\n",
       "      <th></th>\n",
       "    </tr>\n",
       "  </thead>\n",
       "  <tbody>\n",
       "    <tr>\n",
       "      <th>April</th>\n",
       "      <td>3389217.98</td>\n",
       "      <td>14.95</td>\n",
       "      <td>185.639370</td>\n",
       "      <td>332.141314</td>\n",
       "      <td>2.99</td>\n",
       "      <td>3400.00</td>\n",
       "    </tr>\n",
       "    <tr>\n",
       "      <th>August</th>\n",
       "      <td>2241083.37</td>\n",
       "      <td>14.95</td>\n",
       "      <td>187.648277</td>\n",
       "      <td>332.193945</td>\n",
       "      <td>2.99</td>\n",
       "      <td>1700.00</td>\n",
       "    </tr>\n",
       "    <tr>\n",
       "      <th>December</th>\n",
       "      <td>4608295.70</td>\n",
       "      <td>14.95</td>\n",
       "      <td>184.745658</td>\n",
       "      <td>332.820367</td>\n",
       "      <td>2.99</td>\n",
       "      <td>1700.00</td>\n",
       "    </tr>\n",
       "    <tr>\n",
       "      <th>February</th>\n",
       "      <td>2200078.08</td>\n",
       "      <td>14.95</td>\n",
       "      <td>183.999170</td>\n",
       "      <td>325.988793</td>\n",
       "      <td>2.99</td>\n",
       "      <td>1700.00</td>\n",
       "    </tr>\n",
       "    <tr>\n",
       "      <th>January</th>\n",
       "      <td>1821413.16</td>\n",
       "      <td>14.95</td>\n",
       "      <td>187.793913</td>\n",
       "      <td>331.092526</td>\n",
       "      <td>2.99</td>\n",
       "      <td>1999.98</td>\n",
       "    </tr>\n",
       "    <tr>\n",
       "      <th>July</th>\n",
       "      <td>2646461.32</td>\n",
       "      <td>14.95</td>\n",
       "      <td>185.391336</td>\n",
       "      <td>333.024103</td>\n",
       "      <td>2.99</td>\n",
       "      <td>1700.00</td>\n",
       "    </tr>\n",
       "    <tr>\n",
       "      <th>June</th>\n",
       "      <td>2576280.15</td>\n",
       "      <td>14.95</td>\n",
       "      <td>190.342087</td>\n",
       "      <td>337.582608</td>\n",
       "      <td>2.99</td>\n",
       "      <td>3400.00</td>\n",
       "    </tr>\n",
       "    <tr>\n",
       "      <th>March</th>\n",
       "      <td>2804973.35</td>\n",
       "      <td>14.95</td>\n",
       "      <td>185.416007</td>\n",
       "      <td>331.556813</td>\n",
       "      <td>2.99</td>\n",
       "      <td>1700.00</td>\n",
       "    </tr>\n",
       "    <tr>\n",
       "      <th>May</th>\n",
       "      <td>3150616.23</td>\n",
       "      <td>14.95</td>\n",
       "      <td>190.346558</td>\n",
       "      <td>342.964978</td>\n",
       "      <td>2.99</td>\n",
       "      <td>3400.00</td>\n",
       "    </tr>\n",
       "    <tr>\n",
       "      <th>November</th>\n",
       "      <td>3197875.05</td>\n",
       "      <td>14.95</td>\n",
       "      <td>182.277420</td>\n",
       "      <td>330.306825</td>\n",
       "      <td>2.99</td>\n",
       "      <td>1700.00</td>\n",
       "    </tr>\n",
       "    <tr>\n",
       "      <th>October</th>\n",
       "      <td>3734777.86</td>\n",
       "      <td>14.95</td>\n",
       "      <td>184.442583</td>\n",
       "      <td>334.363393</td>\n",
       "      <td>2.99</td>\n",
       "      <td>1999.98</td>\n",
       "    </tr>\n",
       "    <tr>\n",
       "      <th>September</th>\n",
       "      <td>2094465.69</td>\n",
       "      <td>14.95</td>\n",
       "      <td>180.510703</td>\n",
       "      <td>328.478786</td>\n",
       "      <td>2.99</td>\n",
       "      <td>1700.00</td>\n",
       "    </tr>\n",
       "  </tbody>\n",
       "</table>\n",
       "</div>"
      ],
      "text/plain": [
       "                   sum  median        mean         std   min      max\n",
       "Month_name                                                           \n",
       "April       3389217.98   14.95  185.639370  332.141314  2.99  3400.00\n",
       "August      2241083.37   14.95  187.648277  332.193945  2.99  1700.00\n",
       "December    4608295.70   14.95  184.745658  332.820367  2.99  1700.00\n",
       "February    2200078.08   14.95  183.999170  325.988793  2.99  1700.00\n",
       "January     1821413.16   14.95  187.793913  331.092526  2.99  1999.98\n",
       "July        2646461.32   14.95  185.391336  333.024103  2.99  1700.00\n",
       "June        2576280.15   14.95  190.342087  337.582608  2.99  3400.00\n",
       "March       2804973.35   14.95  185.416007  331.556813  2.99  1700.00\n",
       "May         3150616.23   14.95  190.346558  342.964978  2.99  3400.00\n",
       "November    3197875.05   14.95  182.277420  330.306825  2.99  1700.00\n",
       "October     3734777.86   14.95  184.442583  334.363393  2.99  1999.98\n",
       "September   2094465.69   14.95  180.510703  328.478786  2.99  1700.00"
      ]
     },
     "execution_count": 186,
     "metadata": {},
     "output_type": "execute_result"
    }
   ],
   "source": [
    "# Month wise Revenue stats.\n",
    "ecom3.groupby(['Month_name'])['Total Price'].agg(['sum' ,'median' ,'mean' , 'std' , 'min' , 'max'])"
   ]
  },
  {
   "cell_type": "code",
   "execution_count": 191,
   "id": "b8e29029-f58a-4110-8b34-d79f77812af7",
   "metadata": {},
   "outputs": [
    {
     "data": {
      "text/html": [
       "<div>\n",
       "<style scoped>\n",
       "    .dataframe tbody tr th:only-of-type {\n",
       "        vertical-align: middle;\n",
       "    }\n",
       "\n",
       "    .dataframe tbody tr th {\n",
       "        vertical-align: top;\n",
       "    }\n",
       "\n",
       "    .dataframe thead th {\n",
       "        text-align: right;\n",
       "    }\n",
       "</style>\n",
       "<table border=\"1\" class=\"dataframe\">\n",
       "  <thead>\n",
       "    <tr style=\"text-align: right;\">\n",
       "      <th></th>\n",
       "      <th>Price Each</th>\n",
       "      <th>sum</th>\n",
       "      <th>count</th>\n",
       "      <th>max</th>\n",
       "    </tr>\n",
       "  </thead>\n",
       "  <tbody>\n",
       "    <tr>\n",
       "      <th>0</th>\n",
       "      <td>2.99</td>\n",
       "      <td>30986</td>\n",
       "      <td>20612</td>\n",
       "      <td>9</td>\n",
       "    </tr>\n",
       "    <tr>\n",
       "      <th>1</th>\n",
       "      <td>3.84</td>\n",
       "      <td>27615</td>\n",
       "      <td>20558</td>\n",
       "      <td>7</td>\n",
       "    </tr>\n",
       "    <tr>\n",
       "      <th>2</th>\n",
       "      <td>11.95</td>\n",
       "      <td>23931</td>\n",
       "      <td>21859</td>\n",
       "      <td>6</td>\n",
       "    </tr>\n",
       "    <tr>\n",
       "      <th>3</th>\n",
       "      <td>11.99</td>\n",
       "      <td>20524</td>\n",
       "      <td>18849</td>\n",
       "      <td>4</td>\n",
       "    </tr>\n",
       "    <tr>\n",
       "      <th>4</th>\n",
       "      <td>14.95</td>\n",
       "      <td>23169</td>\n",
       "      <td>21610</td>\n",
       "      <td>4</td>\n",
       "    </tr>\n",
       "    <tr>\n",
       "      <th>5</th>\n",
       "      <td>99.99</td>\n",
       "      <td>13430</td>\n",
       "      <td>13298</td>\n",
       "      <td>3</td>\n",
       "    </tr>\n",
       "    <tr>\n",
       "      <th>6</th>\n",
       "      <td>109.99</td>\n",
       "      <td>4126</td>\n",
       "      <td>4098</td>\n",
       "      <td>2</td>\n",
       "    </tr>\n",
       "    <tr>\n",
       "      <th>7</th>\n",
       "      <td>149.99</td>\n",
       "      <td>7541</td>\n",
       "      <td>7498</td>\n",
       "      <td>2</td>\n",
       "    </tr>\n",
       "    <tr>\n",
       "      <th>8</th>\n",
       "      <td>150.00</td>\n",
       "      <td>15637</td>\n",
       "      <td>15525</td>\n",
       "      <td>3</td>\n",
       "    </tr>\n",
       "    <tr>\n",
       "      <th>9</th>\n",
       "      <td>300.00</td>\n",
       "      <td>4813</td>\n",
       "      <td>4794</td>\n",
       "      <td>2</td>\n",
       "    </tr>\n",
       "    <tr>\n",
       "      <th>10</th>\n",
       "      <td>379.99</td>\n",
       "      <td>6192</td>\n",
       "      <td>6174</td>\n",
       "      <td>2</td>\n",
       "    </tr>\n",
       "    <tr>\n",
       "      <th>11</th>\n",
       "      <td>389.99</td>\n",
       "      <td>6239</td>\n",
       "      <td>6225</td>\n",
       "      <td>2</td>\n",
       "    </tr>\n",
       "    <tr>\n",
       "      <th>12</th>\n",
       "      <td>400.00</td>\n",
       "      <td>2068</td>\n",
       "      <td>2065</td>\n",
       "      <td>2</td>\n",
       "    </tr>\n",
       "    <tr>\n",
       "      <th>13</th>\n",
       "      <td>600.00</td>\n",
       "      <td>6841</td>\n",
       "      <td>6834</td>\n",
       "      <td>2</td>\n",
       "    </tr>\n",
       "    <tr>\n",
       "      <th>14</th>\n",
       "      <td>700.00</td>\n",
       "      <td>6847</td>\n",
       "      <td>6840</td>\n",
       "      <td>2</td>\n",
       "    </tr>\n",
       "    <tr>\n",
       "      <th>15</th>\n",
       "      <td>999.99</td>\n",
       "      <td>4128</td>\n",
       "      <td>4126</td>\n",
       "      <td>2</td>\n",
       "    </tr>\n",
       "    <tr>\n",
       "      <th>16</th>\n",
       "      <td>1700.00</td>\n",
       "      <td>4725</td>\n",
       "      <td>4721</td>\n",
       "      <td>2</td>\n",
       "    </tr>\n",
       "  </tbody>\n",
       "</table>\n",
       "</div>"
      ],
      "text/plain": [
       "    Price Each    sum  count  max\n",
       "0         2.99  30986  20612    9\n",
       "1         3.84  27615  20558    7\n",
       "2        11.95  23931  21859    6\n",
       "3        11.99  20524  18849    4\n",
       "4        14.95  23169  21610    4\n",
       "5        99.99  13430  13298    3\n",
       "6       109.99   4126   4098    2\n",
       "7       149.99   7541   7498    2\n",
       "8       150.00  15637  15525    3\n",
       "9       300.00   4813   4794    2\n",
       "10      379.99   6192   6174    2\n",
       "11      389.99   6239   6225    2\n",
       "12      400.00   2068   2065    2\n",
       "13      600.00   6841   6834    2\n",
       "14      700.00   6847   6840    2\n",
       "15      999.99   4128   4126    2\n",
       "16     1700.00   4725   4721    2"
      ]
     },
     "execution_count": 191,
     "metadata": {},
     "output_type": "execute_result"
    }
   ],
   "source": [
    "# Product Price stats.\n",
    "ecom3.groupby(['Price Each'])['Quantity Ordered'].agg(['sum', 'count'  , 'max']).reset_index()"
   ]
  },
  {
   "cell_type": "code",
   "execution_count": 193,
   "id": "d3ab768f-76cc-42d7-a902-c77e10dd3c6b",
   "metadata": {},
   "outputs": [
    {
     "data": {
      "text/html": [
       "<div>\n",
       "<style scoped>\n",
       "    .dataframe tbody tr th:only-of-type {\n",
       "        vertical-align: middle;\n",
       "    }\n",
       "\n",
       "    .dataframe tbody tr th {\n",
       "        vertical-align: top;\n",
       "    }\n",
       "\n",
       "    .dataframe thead th {\n",
       "        text-align: right;\n",
       "    }\n",
       "</style>\n",
       "<table border=\"1\" class=\"dataframe\">\n",
       "  <thead>\n",
       "    <tr style=\"text-align: right;\">\n",
       "      <th></th>\n",
       "      <th>Price Each</th>\n",
       "      <th>count</th>\n",
       "    </tr>\n",
       "  </thead>\n",
       "  <tbody>\n",
       "    <tr>\n",
       "      <th>2</th>\n",
       "      <td>2.99</td>\n",
       "      <td>20612</td>\n",
       "    </tr>\n",
       "    <tr>\n",
       "      <th>3</th>\n",
       "      <td>3.84</td>\n",
       "      <td>20558</td>\n",
       "    </tr>\n",
       "    <tr>\n",
       "      <th>0</th>\n",
       "      <td>11.95</td>\n",
       "      <td>21859</td>\n",
       "    </tr>\n",
       "    <tr>\n",
       "      <th>4</th>\n",
       "      <td>11.99</td>\n",
       "      <td>18849</td>\n",
       "    </tr>\n",
       "    <tr>\n",
       "      <th>1</th>\n",
       "      <td>14.95</td>\n",
       "      <td>21610</td>\n",
       "    </tr>\n",
       "    <tr>\n",
       "      <th>6</th>\n",
       "      <td>99.99</td>\n",
       "      <td>13298</td>\n",
       "    </tr>\n",
       "    <tr>\n",
       "      <th>15</th>\n",
       "      <td>109.99</td>\n",
       "      <td>4098</td>\n",
       "    </tr>\n",
       "    <tr>\n",
       "      <th>7</th>\n",
       "      <td>149.99</td>\n",
       "      <td>7498</td>\n",
       "    </tr>\n",
       "    <tr>\n",
       "      <th>5</th>\n",
       "      <td>150.00</td>\n",
       "      <td>15525</td>\n",
       "    </tr>\n",
       "    <tr>\n",
       "      <th>12</th>\n",
       "      <td>300.00</td>\n",
       "      <td>4794</td>\n",
       "    </tr>\n",
       "    <tr>\n",
       "      <th>11</th>\n",
       "      <td>379.99</td>\n",
       "      <td>6174</td>\n",
       "    </tr>\n",
       "    <tr>\n",
       "      <th>10</th>\n",
       "      <td>389.99</td>\n",
       "      <td>6225</td>\n",
       "    </tr>\n",
       "    <tr>\n",
       "      <th>16</th>\n",
       "      <td>400.00</td>\n",
       "      <td>2065</td>\n",
       "    </tr>\n",
       "    <tr>\n",
       "      <th>9</th>\n",
       "      <td>600.00</td>\n",
       "      <td>6834</td>\n",
       "    </tr>\n",
       "    <tr>\n",
       "      <th>8</th>\n",
       "      <td>700.00</td>\n",
       "      <td>6840</td>\n",
       "    </tr>\n",
       "    <tr>\n",
       "      <th>14</th>\n",
       "      <td>999.99</td>\n",
       "      <td>4126</td>\n",
       "    </tr>\n",
       "    <tr>\n",
       "      <th>13</th>\n",
       "      <td>1700.00</td>\n",
       "      <td>4721</td>\n",
       "    </tr>\n",
       "  </tbody>\n",
       "</table>\n",
       "</div>"
      ],
      "text/plain": [
       "    Price Each  count\n",
       "2         2.99  20612\n",
       "3         3.84  20558\n",
       "0        11.95  21859\n",
       "4        11.99  18849\n",
       "1        14.95  21610\n",
       "6        99.99  13298\n",
       "15      109.99   4098\n",
       "7       149.99   7498\n",
       "5       150.00  15525\n",
       "12      300.00   4794\n",
       "11      379.99   6174\n",
       "10      389.99   6225\n",
       "16      400.00   2065\n",
       "9       600.00   6834\n",
       "8       700.00   6840\n",
       "14      999.99   4126\n",
       "13     1700.00   4721"
      ]
     },
     "execution_count": 193,
     "metadata": {},
     "output_type": "execute_result"
    }
   ],
   "source": [
    "# Product Price bin-wise orders count:\n",
    "ecom3['Price Each'].value_counts().reset_index().sort_values(by = 'Price Each' , ascending = True)"
   ]
  },
  {
   "cell_type": "code",
   "execution_count": null,
   "id": "895ab67b-f2a6-4930-9eeb-e7d00aa55106",
   "metadata": {},
   "outputs": [],
   "source": [
    "# monthy total price vs quantity ordered\n",
    "# trends line monthly (running sum)\n",
    "# category wise total revenue vs quantity ordered\n"
   ]
  },
  {
   "cell_type": "code",
   "execution_count": 195,
   "id": "aedb2624-0176-438c-8659-d58effae0e2b",
   "metadata": {},
   "outputs": [
    {
     "data": {
      "image/png": "[encoded data removed]",
      "text/plain": [
       "<Figure size 600x400 with 2 Axes>"
      ]
     },
     "metadata": {},
     "output_type": "display_data"
    }
   ],
   "source": [
    "# manth wise revenue vs total order quantity:\n",
    "import matplotlib.ticker as ticker\n",
    "plt.figure(figsize=(6,4))\n",
    "plt.subplot(2,1,1)\n",
    "ax1 = sns.lineplot( x = 'Month_name' , y= 'Total Price'  , data =ecom3  , palette='Set2' , estimator=sum )\n",
    "# Format y-axis to show full number\n",
    "ax1.yaxis.set_major_formatter(ticker.FuncFormatter(lambda x, _: f'{int(x):,}'))\n",
    "\n",
    "plt.ylabel(\"Total Price\")\n",
    "plt.xlabel(\"Month\")\n",
    "plt.tight_layout()\n",
    "plt.xticks(rotation=45)\n",
    "\n",
    "plt.subplot(2,1,2)\n",
    "ax2 = sns.lineplot( x = 'Month_name' , y= 'Quantity Ordered'  , data =ecom3  , palette='Set2' , estimator=sum )\n",
    "# Format y-axis to show full number\n",
    "ax2.yaxis.set_major_formatter(ticker.FuncFormatter(lambda x, _: f'{int(x):,}'))\n",
    "\n",
    "\n",
    "plt.ylabel(\"Total Quantity\")\n",
    "plt.xlabel(\"Month\")\n",
    "plt.tight_layout()\n",
    "plt.xticks(rotation=45)\n",
    "\n",
    "plt.show()"
   ]
  },
  {
   "cell_type": "code",
   "execution_count": null,
   "id": "eba1dc39-4cc3-4e7a-9e6e-c41e55025569",
   "metadata": {},
   "outputs": [],
   "source": []
  },
  {
   "cell_type": "code",
   "execution_count": 197,
   "id": "179a1d5c-b47e-4fa7-b372-6e2d1907f755",
   "metadata": {},
   "outputs": [
    {
     "data": {
      "image/png": "[encoded data removed]",
      "text/plain": [
       "<Figure size 640x480 with 1 Axes>"
      ]
     },
     "metadata": {},
     "output_type": "display_data"
    }
   ],
   "source": [
    "# monthly order price outliers.\n",
    "sns.boxplot(x = 'Month_name' , y = 'Total Price' , data = ecom3 ,palette = 'rainbow' )\n",
    "plt.xticks(rotation = 45)\n",
    "plt.show()"
   ]
  },
  {
   "cell_type": "code",
   "execution_count": 199,
   "id": "483d8aba-141d-464c-9185-9248b0b5e366",
   "metadata": {},
   "outputs": [],
   "source": [
    "# Order Price cumulative Sum.\n",
    "ecom3['price_cumsum'] = ecom3['Total Price'].cumsum()"
   ]
  },
  {
   "cell_type": "code",
   "execution_count": 201,
   "id": "3515e0cf-0855-4da9-9078-1cd2db1af3cb",
   "metadata": {},
   "outputs": [
    {
     "data": {
      "image/png": "[encoded data removed]",
      "text/plain": [
       "<Figure size 640x480 with 1 Axes>"
      ]
     },
     "metadata": {},
     "output_type": "display_data"
    }
   ],
   "source": [
    "ax2 = sns.lineplot( x = 'Month_name' , y= 'price_cumsum'  , data =ecom3  , palette='Set2'  )\n",
    "# Format y-axis to show full number\n",
    "ax2.yaxis.set_major_formatter(ticker.FuncFormatter(lambda x, _: f'{int(x):,}'))\n",
    "\n",
    "\n",
    "plt.ylabel(\"Price\")\n",
    "plt.xlabel(\"Month\")\n",
    "plt.tight_layout()\n",
    "plt.xticks(rotation=45)\n",
    "\n",
    "plt.show()"
   ]
  },
  {
   "cell_type": "code",
   "execution_count": 145,
   "id": "1bef9545-5249-4168-ba3f-c6096e559c5b",
   "metadata": {},
   "outputs": [
    {
     "data": {
      "text/plain": [
       "['Phone', 'Charging Cable', 'Headphones', 'Monitor', 'Headphones', ..., 'Charging Cable', 'Batteries', 'Phone', 'Headphones', 'Headphones']\n",
       "Length: 185686\n",
       "Categories (9, object): ['Batteries', 'Charging Cable', 'Dryer', 'Headphones', ..., 'Monitor', 'Phone', 'TV', 'Washing Machine']"
      ]
     },
     "execution_count": 145,
     "metadata": {},
     "output_type": "execute_result"
    }
   ],
   "source": [
    "# Product category categorical data.\n",
    "pd.Categorical(ecom3['Category'])"
   ]
  },
  {
   "cell_type": "code",
   "execution_count": null,
   "id": "7aa0d0d2-9f85-4c45-87d4-fce0a03080e8",
   "metadata": {},
   "outputs": [],
   "source": []
  },
  {
   "cell_type": "code",
   "execution_count": null,
   "id": "cbab75ba-177f-40d6-a515-8fa17d8091dc",
   "metadata": {},
   "outputs": [],
   "source": []
  },
  {
   "cell_type": "code",
   "execution_count": null,
   "id": "bc36b8b6-36be-49b6-88b4-4965533388e4",
   "metadata": {},
   "outputs": [],
   "source": []
  }
 ],
 "metadata": {
  "kernelspec": {
   "display_name": "Python 3 (ipykernel)",
   "language": "python",
   "name": "python3"
  },
  "language_info": {
   "codemirror_mode": {
    "name": "ipython",
    "version": 3
   },
   "file_extension": ".py",
   "mimetype": "text/x-python",
   "name": "python",
   "nbconvert_exporter": "python",
   "pygments_lexer": "ipython3",
   "version": "3.12.4"
  }
 },
 "nbformat": 4,
 "nbformat_minor": 5
}
